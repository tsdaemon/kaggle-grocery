{
 "cells": [
  {
   "cell_type": "code",
   "execution_count": 1,
   "metadata": {},
   "outputs": [],
   "source": [
    "import pandas as pd\n",
    "import lightgbm as lgb\n",
    "import numpy as np\n",
    "import gc\n",
    "import itertools\n",
    "\n",
    "from importlib import reload\n",
    "import date\n",
    "reload(date)\n",
    "from date import *\n",
    "import model\n",
    "reload(model)\n",
    "from model import *\n",
    "from metric import get_weights, NWRMSLE_log"
   ]
  },
  {
   "cell_type": "code",
   "execution_count": 2,
   "metadata": {},
   "outputs": [
    {
     "name": "stdout",
     "output_type": "stream",
     "text": [
      "Reading batch from position 110000000, batch size 10000000...\n",
      "Filtering 10000000...\n",
      "Filtered 8659998, mapping...\n",
      "Mapped, reducing...\n",
      "Batch done.\n",
      "================================================================================\n",
      "Reading batch from position 120000000, batch size 10000000...\n",
      "Filtering 5497041...\n",
      "Filtered 5497041, mapping...\n",
      "Mapped, reducing...\n",
      "Batch done.\n",
      "End of dataset is found.\n"
     ]
    }
   ],
   "source": [
    "df = load_data_in_date_range('./data/train_processed.csv', '2017-04-04', '2017-08-15', 110000000)"
   ]
  },
  {
   "cell_type": "code",
   "execution_count": 3,
   "metadata": {},
   "outputs": [
    {
     "name": "stdout",
     "output_type": "stream",
     "text": [
      "Reading additional datasets\n"
     ]
    }
   ],
   "source": [
    "print('Reading additional datasets')\n",
    "items = pd.read_csv('./data/items_encoded.csv')\n",
    "stores = pd.read_csv('./data/stores_encoded.csv')"
   ]
  },
  {
   "cell_type": "code",
   "execution_count": 4,
   "metadata": {},
   "outputs": [
    {
     "name": "stdout",
     "output_type": "stream",
     "text": [
      "Converting data and joining additional data\n"
     ]
    },
    {
     "data": {
      "text/plain": [
       "205"
      ]
     },
     "execution_count": 4,
     "metadata": {},
     "output_type": "execute_result"
    }
   ],
   "source": [
    "print('Converting data and joining additional data')\n",
    "df = convert_unit_sales(df)\n",
    "df = fill_empty_sales(df)\n",
    "df, cols_categories = extend_dataset(df, items, stores)\n",
    "gc.collect()"
   ]
  },
  {
   "cell_type": "code",
   "execution_count": 5,
   "metadata": {},
   "outputs": [
    {
     "name": "stdout",
     "output_type": "stream",
     "text": [
      "Adding mean target encoding\n"
     ]
    },
    {
     "data": {
      "text/html": [
       "<div>\n",
       "<style scoped>\n",
       "    .dataframe tbody tr th:only-of-type {\n",
       "        vertical-align: middle;\n",
       "    }\n",
       "\n",
       "    .dataframe tbody tr th {\n",
       "        vertical-align: top;\n",
       "    }\n",
       "\n",
       "    .dataframe thead th {\n",
       "        text-align: right;\n",
       "    }\n",
       "</style>\n",
       "<table border=\"1\" class=\"dataframe\">\n",
       "  <thead>\n",
       "    <tr style=\"text-align: right;\">\n",
       "      <th></th>\n",
       "      <th>date</th>\n",
       "      <th>store_nbr</th>\n",
       "      <th>item_nbr</th>\n",
       "      <th>id</th>\n",
       "      <th>unit_sales</th>\n",
       "      <th>onpromotion</th>\n",
       "      <th>weekday</th>\n",
       "      <th>weekend</th>\n",
       "      <th>salary</th>\n",
       "      <th>family</th>\n",
       "      <th>...</th>\n",
       "      <th>mean_unit_sales_by_(perishable)</th>\n",
       "      <th>mean_unit_sales_by_(family)</th>\n",
       "      <th>mean_unit_sales_by_(city)</th>\n",
       "      <th>mean_unit_sales_by_(type)</th>\n",
       "      <th>mean_unit_sales_by_(cluster)</th>\n",
       "      <th>mean_unit_sales_by_(state)</th>\n",
       "      <th>mean_unit_sales_by_(store_nbr)</th>\n",
       "      <th>mean_unit_sales_by_(item_nbr)</th>\n",
       "      <th>mean_unit_sales_by_(onpromotion)</th>\n",
       "      <th>mean_unit_sales_by_(store_nbr+item_nbr+onpromotion)</th>\n",
       "    </tr>\n",
       "  </thead>\n",
       "  <tbody>\n",
       "    <tr>\n",
       "      <th>0</th>\n",
       "      <td>1576</td>\n",
       "      <td>46</td>\n",
       "      <td>1695836</td>\n",
       "      <td>113723318.0</td>\n",
       "      <td>3.983762</td>\n",
       "      <td>True</td>\n",
       "      <td>2</td>\n",
       "      <td>False</td>\n",
       "      <td>False</td>\n",
       "      <td>30</td>\n",
       "      <td>...</td>\n",
       "      <td>0.954195</td>\n",
       "      <td>1.029249</td>\n",
       "      <td>1.098829</td>\n",
       "      <td>1.236079</td>\n",
       "      <td>1.307416</td>\n",
       "      <td>1.090374</td>\n",
       "      <td>1.352238</td>\n",
       "      <td>1.758596</td>\n",
       "      <td>1.969504</td>\n",
       "      <td>3.759474</td>\n",
       "    </tr>\n",
       "    <tr>\n",
       "      <th>1</th>\n",
       "      <td>1577</td>\n",
       "      <td>46</td>\n",
       "      <td>1695836</td>\n",
       "      <td>113824033.0</td>\n",
       "      <td>2.771612</td>\n",
       "      <td>False</td>\n",
       "      <td>3</td>\n",
       "      <td>False</td>\n",
       "      <td>False</td>\n",
       "      <td>30</td>\n",
       "      <td>...</td>\n",
       "      <td>0.954195</td>\n",
       "      <td>1.029249</td>\n",
       "      <td>1.098829</td>\n",
       "      <td>1.236079</td>\n",
       "      <td>1.307416</td>\n",
       "      <td>1.090374</td>\n",
       "      <td>1.352238</td>\n",
       "      <td>1.758596</td>\n",
       "      <td>0.749576</td>\n",
       "      <td>2.219200</td>\n",
       "    </tr>\n",
       "    <tr>\n",
       "      <th>2</th>\n",
       "      <td>1578</td>\n",
       "      <td>46</td>\n",
       "      <td>1695836</td>\n",
       "      <td>113927633.0</td>\n",
       "      <td>3.089621</td>\n",
       "      <td>False</td>\n",
       "      <td>4</td>\n",
       "      <td>False</td>\n",
       "      <td>False</td>\n",
       "      <td>30</td>\n",
       "      <td>...</td>\n",
       "      <td>0.954195</td>\n",
       "      <td>1.029249</td>\n",
       "      <td>1.098829</td>\n",
       "      <td>1.236079</td>\n",
       "      <td>1.307416</td>\n",
       "      <td>1.090374</td>\n",
       "      <td>1.352238</td>\n",
       "      <td>1.758596</td>\n",
       "      <td>0.749576</td>\n",
       "      <td>2.219200</td>\n",
       "    </tr>\n",
       "    <tr>\n",
       "      <th>3</th>\n",
       "      <td>1579</td>\n",
       "      <td>46</td>\n",
       "      <td>1695836</td>\n",
       "      <td>114042179.0</td>\n",
       "      <td>3.789149</td>\n",
       "      <td>False</td>\n",
       "      <td>5</td>\n",
       "      <td>True</td>\n",
       "      <td>False</td>\n",
       "      <td>30</td>\n",
       "      <td>...</td>\n",
       "      <td>0.954195</td>\n",
       "      <td>1.029249</td>\n",
       "      <td>1.098829</td>\n",
       "      <td>1.236079</td>\n",
       "      <td>1.307416</td>\n",
       "      <td>1.090374</td>\n",
       "      <td>1.352238</td>\n",
       "      <td>1.758596</td>\n",
       "      <td>0.749576</td>\n",
       "      <td>2.219200</td>\n",
       "    </tr>\n",
       "    <tr>\n",
       "      <th>4</th>\n",
       "      <td>1580</td>\n",
       "      <td>46</td>\n",
       "      <td>1695836</td>\n",
       "      <td>114155535.0</td>\n",
       "      <td>4.023117</td>\n",
       "      <td>False</td>\n",
       "      <td>6</td>\n",
       "      <td>True</td>\n",
       "      <td>True</td>\n",
       "      <td>30</td>\n",
       "      <td>...</td>\n",
       "      <td>0.954195</td>\n",
       "      <td>1.029249</td>\n",
       "      <td>1.098829</td>\n",
       "      <td>1.236079</td>\n",
       "      <td>1.307416</td>\n",
       "      <td>1.090374</td>\n",
       "      <td>1.352238</td>\n",
       "      <td>1.758596</td>\n",
       "      <td>0.749576</td>\n",
       "      <td>2.219200</td>\n",
       "    </tr>\n",
       "  </tbody>\n",
       "</table>\n",
       "<p>5 rows × 73 columns</p>\n",
       "</div>"
      ],
      "text/plain": [
       "   date  store_nbr  item_nbr           id  unit_sales  onpromotion  weekday  \\\n",
       "0  1576         46   1695836  113723318.0    3.983762         True        2   \n",
       "1  1577         46   1695836  113824033.0    2.771612        False        3   \n",
       "2  1578         46   1695836  113927633.0    3.089621        False        4   \n",
       "3  1579         46   1695836  114042179.0    3.789149        False        5   \n",
       "4  1580         46   1695836  114155535.0    4.023117        False        6   \n",
       "\n",
       "   weekend  salary  family  \\\n",
       "0    False   False      30   \n",
       "1    False   False      30   \n",
       "2    False   False      30   \n",
       "3     True   False      30   \n",
       "4     True    True      30   \n",
       "\n",
       "                          ...                           \\\n",
       "0                         ...                            \n",
       "1                         ...                            \n",
       "2                         ...                            \n",
       "3                         ...                            \n",
       "4                         ...                            \n",
       "\n",
       "   mean_unit_sales_by_(perishable)  mean_unit_sales_by_(family)  \\\n",
       "0                         0.954195                     1.029249   \n",
       "1                         0.954195                     1.029249   \n",
       "2                         0.954195                     1.029249   \n",
       "3                         0.954195                     1.029249   \n",
       "4                         0.954195                     1.029249   \n",
       "\n",
       "   mean_unit_sales_by_(city)  mean_unit_sales_by_(type)  \\\n",
       "0                   1.098829                   1.236079   \n",
       "1                   1.098829                   1.236079   \n",
       "2                   1.098829                   1.236079   \n",
       "3                   1.098829                   1.236079   \n",
       "4                   1.098829                   1.236079   \n",
       "\n",
       "   mean_unit_sales_by_(cluster)  mean_unit_sales_by_(state)  \\\n",
       "0                      1.307416                    1.090374   \n",
       "1                      1.307416                    1.090374   \n",
       "2                      1.307416                    1.090374   \n",
       "3                      1.307416                    1.090374   \n",
       "4                      1.307416                    1.090374   \n",
       "\n",
       "   mean_unit_sales_by_(store_nbr)  mean_unit_sales_by_(item_nbr)  \\\n",
       "0                        1.352238                       1.758596   \n",
       "1                        1.352238                       1.758596   \n",
       "2                        1.352238                       1.758596   \n",
       "3                        1.352238                       1.758596   \n",
       "4                        1.352238                       1.758596   \n",
       "\n",
       "   mean_unit_sales_by_(onpromotion)  \\\n",
       "0                          1.969504   \n",
       "1                          0.749576   \n",
       "2                          0.749576   \n",
       "3                          0.749576   \n",
       "4                          0.749576   \n",
       "\n",
       "   mean_unit_sales_by_(store_nbr+item_nbr+onpromotion)  \n",
       "0                                           3.759474    \n",
       "1                                           2.219200    \n",
       "2                                           2.219200    \n",
       "3                                           2.219200    \n",
       "4                                           2.219200    \n",
       "\n",
       "[5 rows x 73 columns]"
      ]
     },
     "execution_count": 5,
     "metadata": {},
     "output_type": "execute_result"
    }
   ],
   "source": [
    "cat_features = items_cols + stores_cols + ['store_nbr','item_nbr','onpromotion']\n",
    "combinations = list(itertools.combinations(cat_features, 2)) + \\\n",
    "list(itertools.combinations(cat_features, 1)) + \\\n",
    "[['store_nbr','item_nbr','onpromotion']] #, ['store_nbr','item_nbr']]\n",
    "print('Adding mean target encoding')\n",
    "df, cols_mean = add_mean_encoding(df, combinations)\n",
    "gc.collect()\n",
    "df.head()"
   ]
  },
  {
   "cell_type": "code",
   "execution_count": 6,
   "metadata": {},
   "outputs": [
    {
     "name": "stdout",
     "output_type": "stream",
     "text": [
      "Adding lagged features\n",
      "Processing lagged 12...\n"
     ]
    },
    {
     "name": "stderr",
     "output_type": "stream",
     "text": [
      "/home/ubuntu/.local/lib/python3.5/site-packages/pandas/core/generic.py:3643: SettingWithCopyWarning: \n",
      "A value is trying to be set on a copy of a slice from a DataFrame.\n",
      "Try using .loc[row_indexer,col_indexer] = value instead\n",
      "\n",
      "See the caveats in the documentation: http://pandas.pydata.org/pandas-docs/stable/indexing.html#indexing-view-versus-copy\n",
      "  self[name] = value\n",
      "/home/ubuntu/grocery/model.py:52: SettingWithCopyWarning: \n",
      "A value is trying to be set on a copy of a slice from a DataFrame.\n",
      "Try using .loc[row_indexer,col_indexer] = value instead\n",
      "\n",
      "See the caveats in the documentation: http://pandas.pydata.org/pandas-docs/stable/indexing.html#indexing-view-versus-copy\n",
      "  df_prev[colname] = df_prev['unit_sales']\n"
     ]
    },
    {
     "name": "stdout",
     "output_type": "stream",
     "text": [
      "Lagged 12 is done.\n",
      "Processing lagged 13...\n",
      "Lagged 13 is done.\n",
      "Processing lagged 14...\n",
      "Lagged 14 is done.\n",
      "Processing lagged 15...\n",
      "Lagged 15 is done.\n",
      "Processing lagged 16...\n",
      "Lagged 16 is done.\n"
     ]
    },
    {
     "ename": "MemoryError",
     "evalue": "",
     "output_type": "error",
     "traceback": [
      "\u001b[0;31m---------------------------------------------------------------------------\u001b[0m",
      "\u001b[0;31mMemoryError\u001b[0m                               Traceback (most recent call last)",
      "\u001b[0;32m<ipython-input-6-ae4e4bf31bcf>\u001b[0m in \u001b[0;36m<module>\u001b[0;34m()\u001b[0m\n\u001b[1;32m      1\u001b[0m \u001b[0mprint\u001b[0m\u001b[0;34m(\u001b[0m\u001b[0;34m'Adding lagged features'\u001b[0m\u001b[0;34m)\u001b[0m\u001b[0;34m\u001b[0m\u001b[0m\n\u001b[1;32m      2\u001b[0m \u001b[0mdf_prev\u001b[0m \u001b[0;34m=\u001b[0m \u001b[0mdf\u001b[0m\u001b[0;34m[\u001b[0m\u001b[0;34m[\u001b[0m\u001b[0;34m'item_nbr'\u001b[0m\u001b[0;34m,\u001b[0m \u001b[0;34m'store_nbr'\u001b[0m\u001b[0;34m,\u001b[0m \u001b[0;34m'date'\u001b[0m\u001b[0;34m,\u001b[0m \u001b[0;34m'unit_sales'\u001b[0m\u001b[0;34m]\u001b[0m\u001b[0;34m]\u001b[0m\u001b[0;34m\u001b[0m\u001b[0m\n\u001b[0;32m----> 3\u001b[0;31m \u001b[0mdf\u001b[0m\u001b[0;34m,\u001b[0m \u001b[0mcols_lagged\u001b[0m \u001b[0;34m=\u001b[0m \u001b[0mfill_lagged\u001b[0m\u001b[0;34m(\u001b[0m\u001b[0mdf\u001b[0m\u001b[0;34m,\u001b[0m \u001b[0mdf_prev\u001b[0m\u001b[0;34m,\u001b[0m \u001b[0;36m12\u001b[0m\u001b[0;34m,\u001b[0m \u001b[0;36m16\u001b[0m\u001b[0;34m,\u001b[0m \u001b[0;32mTrue\u001b[0m\u001b[0;34m)\u001b[0m\u001b[0;34m\u001b[0m\u001b[0m\n\u001b[0m\u001b[1;32m      4\u001b[0m \u001b[0;32mdel\u001b[0m \u001b[0mdf_prev\u001b[0m\u001b[0;34m\u001b[0m\u001b[0m\n\u001b[1;32m      5\u001b[0m \u001b[0mgc\u001b[0m\u001b[0;34m.\u001b[0m\u001b[0mcollect\u001b[0m\u001b[0;34m(\u001b[0m\u001b[0;34m)\u001b[0m\u001b[0;34m\u001b[0m\u001b[0m\n",
      "\u001b[0;32m~/grocery/model.py\u001b[0m in \u001b[0;36mfill_lagged\u001b[0;34m(df, df_prev, start_lagged, end_lagged, verbose)\u001b[0m\n\u001b[1;32m     59\u001b[0m         \u001b[0mcolnames\u001b[0m\u001b[0;34m.\u001b[0m\u001b[0mappend\u001b[0m\u001b[0;34m(\u001b[0m\u001b[0mcolname\u001b[0m\u001b[0;34m)\u001b[0m\u001b[0;34m\u001b[0m\u001b[0m\n\u001b[1;32m     60\u001b[0m \u001b[0;34m\u001b[0m\u001b[0m\n\u001b[0;32m---> 61\u001b[0;31m     \u001b[0mdf\u001b[0m\u001b[0;34m.\u001b[0m\u001b[0mfillna\u001b[0m\u001b[0;34m(\u001b[0m\u001b[0;36m0.0\u001b[0m\u001b[0;34m,\u001b[0m \u001b[0minplace\u001b[0m\u001b[0;34m=\u001b[0m\u001b[0;32mTrue\u001b[0m\u001b[0;34m)\u001b[0m\u001b[0;34m\u001b[0m\u001b[0m\n\u001b[0m\u001b[1;32m     62\u001b[0m     \u001b[0;32mreturn\u001b[0m \u001b[0mdf\u001b[0m\u001b[0;34m,\u001b[0m \u001b[0mcolnames\u001b[0m\u001b[0;34m\u001b[0m\u001b[0m\n\u001b[1;32m     63\u001b[0m \u001b[0;34m\u001b[0m\u001b[0m\n",
      "\u001b[0;32m~/.local/lib/python3.5/site-packages/pandas/core/frame.py\u001b[0m in \u001b[0;36mfillna\u001b[0;34m(self, value, method, axis, inplace, limit, downcast, **kwargs)\u001b[0m\n\u001b[1;32m   3033\u001b[0m                      \u001b[0mself\u001b[0m\u001b[0;34m)\u001b[0m\u001b[0;34m.\u001b[0m\u001b[0mfillna\u001b[0m\u001b[0;34m(\u001b[0m\u001b[0mvalue\u001b[0m\u001b[0;34m=\u001b[0m\u001b[0mvalue\u001b[0m\u001b[0;34m,\u001b[0m \u001b[0mmethod\u001b[0m\u001b[0;34m=\u001b[0m\u001b[0mmethod\u001b[0m\u001b[0;34m,\u001b[0m \u001b[0maxis\u001b[0m\u001b[0;34m=\u001b[0m\u001b[0maxis\u001b[0m\u001b[0;34m,\u001b[0m\u001b[0;34m\u001b[0m\u001b[0m\n\u001b[1;32m   3034\u001b[0m                                   \u001b[0minplace\u001b[0m\u001b[0;34m=\u001b[0m\u001b[0minplace\u001b[0m\u001b[0;34m,\u001b[0m \u001b[0mlimit\u001b[0m\u001b[0;34m=\u001b[0m\u001b[0mlimit\u001b[0m\u001b[0;34m,\u001b[0m\u001b[0;34m\u001b[0m\u001b[0m\n\u001b[0;32m-> 3035\u001b[0;31m                                   downcast=downcast, **kwargs)\n\u001b[0m\u001b[1;32m   3036\u001b[0m \u001b[0;34m\u001b[0m\u001b[0m\n\u001b[1;32m   3037\u001b[0m     \u001b[0;34m@\u001b[0m\u001b[0mAppender\u001b[0m\u001b[0;34m(\u001b[0m\u001b[0m_shared_docs\u001b[0m\u001b[0;34m[\u001b[0m\u001b[0;34m'shift'\u001b[0m\u001b[0;34m]\u001b[0m \u001b[0;34m%\u001b[0m \u001b[0m_shared_doc_kwargs\u001b[0m\u001b[0;34m)\u001b[0m\u001b[0;34m\u001b[0m\u001b[0m\n",
      "\u001b[0;32m~/.local/lib/python3.5/site-packages/pandas/core/generic.py\u001b[0m in \u001b[0;36mfillna\u001b[0;34m(self, value, method, axis, inplace, limit, downcast)\u001b[0m\n\u001b[1;32m   4264\u001b[0m             raise TypeError('\"value\" parameter must be a scalar or dict, but '\n\u001b[1;32m   4265\u001b[0m                             'you passed a \"{0}\"'.format(type(value).__name__))\n\u001b[0;32m-> 4266\u001b[0;31m         \u001b[0mself\u001b[0m\u001b[0;34m.\u001b[0m\u001b[0m_consolidate_inplace\u001b[0m\u001b[0;34m(\u001b[0m\u001b[0;34m)\u001b[0m\u001b[0;34m\u001b[0m\u001b[0m\n\u001b[0m\u001b[1;32m   4267\u001b[0m \u001b[0;34m\u001b[0m\u001b[0m\n\u001b[1;32m   4268\u001b[0m         \u001b[0;31m# set the default here, so functions examining the signaure\u001b[0m\u001b[0;34m\u001b[0m\u001b[0;34m\u001b[0m\u001b[0m\n",
      "\u001b[0;32m~/.local/lib/python3.5/site-packages/pandas/core/generic.py\u001b[0m in \u001b[0;36m_consolidate_inplace\u001b[0;34m(self)\u001b[0m\n\u001b[1;32m   3675\u001b[0m             \u001b[0mself\u001b[0m\u001b[0;34m.\u001b[0m\u001b[0m_data\u001b[0m \u001b[0;34m=\u001b[0m \u001b[0mself\u001b[0m\u001b[0;34m.\u001b[0m\u001b[0m_data\u001b[0m\u001b[0;34m.\u001b[0m\u001b[0mconsolidate\u001b[0m\u001b[0;34m(\u001b[0m\u001b[0;34m)\u001b[0m\u001b[0;34m\u001b[0m\u001b[0m\n\u001b[1;32m   3676\u001b[0m \u001b[0;34m\u001b[0m\u001b[0m\n\u001b[0;32m-> 3677\u001b[0;31m         \u001b[0mself\u001b[0m\u001b[0;34m.\u001b[0m\u001b[0m_protect_consolidate\u001b[0m\u001b[0;34m(\u001b[0m\u001b[0mf\u001b[0m\u001b[0;34m)\u001b[0m\u001b[0;34m\u001b[0m\u001b[0m\n\u001b[0m\u001b[1;32m   3678\u001b[0m \u001b[0;34m\u001b[0m\u001b[0m\n\u001b[1;32m   3679\u001b[0m     \u001b[0;32mdef\u001b[0m \u001b[0m_consolidate\u001b[0m\u001b[0;34m(\u001b[0m\u001b[0mself\u001b[0m\u001b[0;34m,\u001b[0m \u001b[0minplace\u001b[0m\u001b[0;34m=\u001b[0m\u001b[0;32mFalse\u001b[0m\u001b[0;34m)\u001b[0m\u001b[0;34m:\u001b[0m\u001b[0;34m\u001b[0m\u001b[0m\n",
      "\u001b[0;32m~/.local/lib/python3.5/site-packages/pandas/core/generic.py\u001b[0m in \u001b[0;36m_protect_consolidate\u001b[0;34m(self, f)\u001b[0m\n\u001b[1;32m   3664\u001b[0m         \"\"\"\n\u001b[1;32m   3665\u001b[0m         \u001b[0mblocks_before\u001b[0m \u001b[0;34m=\u001b[0m \u001b[0mlen\u001b[0m\u001b[0;34m(\u001b[0m\u001b[0mself\u001b[0m\u001b[0;34m.\u001b[0m\u001b[0m_data\u001b[0m\u001b[0;34m.\u001b[0m\u001b[0mblocks\u001b[0m\u001b[0;34m)\u001b[0m\u001b[0;34m\u001b[0m\u001b[0m\n\u001b[0;32m-> 3666\u001b[0;31m         \u001b[0mresult\u001b[0m \u001b[0;34m=\u001b[0m \u001b[0mf\u001b[0m\u001b[0;34m(\u001b[0m\u001b[0;34m)\u001b[0m\u001b[0;34m\u001b[0m\u001b[0m\n\u001b[0m\u001b[1;32m   3667\u001b[0m         \u001b[0;32mif\u001b[0m \u001b[0mlen\u001b[0m\u001b[0;34m(\u001b[0m\u001b[0mself\u001b[0m\u001b[0;34m.\u001b[0m\u001b[0m_data\u001b[0m\u001b[0;34m.\u001b[0m\u001b[0mblocks\u001b[0m\u001b[0;34m)\u001b[0m \u001b[0;34m!=\u001b[0m \u001b[0mblocks_before\u001b[0m\u001b[0;34m:\u001b[0m\u001b[0;34m\u001b[0m\u001b[0m\n\u001b[1;32m   3668\u001b[0m             \u001b[0mself\u001b[0m\u001b[0;34m.\u001b[0m\u001b[0m_clear_item_cache\u001b[0m\u001b[0;34m(\u001b[0m\u001b[0;34m)\u001b[0m\u001b[0;34m\u001b[0m\u001b[0m\n",
      "\u001b[0;32m~/.local/lib/python3.5/site-packages/pandas/core/generic.py\u001b[0m in \u001b[0;36mf\u001b[0;34m()\u001b[0m\n\u001b[1;32m   3673\u001b[0m \u001b[0;34m\u001b[0m\u001b[0m\n\u001b[1;32m   3674\u001b[0m         \u001b[0;32mdef\u001b[0m \u001b[0mf\u001b[0m\u001b[0;34m(\u001b[0m\u001b[0;34m)\u001b[0m\u001b[0;34m:\u001b[0m\u001b[0;34m\u001b[0m\u001b[0m\n\u001b[0;32m-> 3675\u001b[0;31m             \u001b[0mself\u001b[0m\u001b[0;34m.\u001b[0m\u001b[0m_data\u001b[0m \u001b[0;34m=\u001b[0m \u001b[0mself\u001b[0m\u001b[0;34m.\u001b[0m\u001b[0m_data\u001b[0m\u001b[0;34m.\u001b[0m\u001b[0mconsolidate\u001b[0m\u001b[0;34m(\u001b[0m\u001b[0;34m)\u001b[0m\u001b[0;34m\u001b[0m\u001b[0m\n\u001b[0m\u001b[1;32m   3676\u001b[0m \u001b[0;34m\u001b[0m\u001b[0m\n\u001b[1;32m   3677\u001b[0m         \u001b[0mself\u001b[0m\u001b[0;34m.\u001b[0m\u001b[0m_protect_consolidate\u001b[0m\u001b[0;34m(\u001b[0m\u001b[0mf\u001b[0m\u001b[0;34m)\u001b[0m\u001b[0;34m\u001b[0m\u001b[0m\n",
      "\u001b[0;32m~/.local/lib/python3.5/site-packages/pandas/core/internals.py\u001b[0m in \u001b[0;36mconsolidate\u001b[0;34m(self)\u001b[0m\n\u001b[1;32m   3819\u001b[0m         \u001b[0mbm\u001b[0m \u001b[0;34m=\u001b[0m \u001b[0mself\u001b[0m\u001b[0;34m.\u001b[0m\u001b[0m__class__\u001b[0m\u001b[0;34m(\u001b[0m\u001b[0mself\u001b[0m\u001b[0;34m.\u001b[0m\u001b[0mblocks\u001b[0m\u001b[0;34m,\u001b[0m \u001b[0mself\u001b[0m\u001b[0;34m.\u001b[0m\u001b[0maxes\u001b[0m\u001b[0;34m)\u001b[0m\u001b[0;34m\u001b[0m\u001b[0m\n\u001b[1;32m   3820\u001b[0m         \u001b[0mbm\u001b[0m\u001b[0;34m.\u001b[0m\u001b[0m_is_consolidated\u001b[0m \u001b[0;34m=\u001b[0m \u001b[0;32mFalse\u001b[0m\u001b[0;34m\u001b[0m\u001b[0m\n\u001b[0;32m-> 3821\u001b[0;31m         \u001b[0mbm\u001b[0m\u001b[0;34m.\u001b[0m\u001b[0m_consolidate_inplace\u001b[0m\u001b[0;34m(\u001b[0m\u001b[0;34m)\u001b[0m\u001b[0;34m\u001b[0m\u001b[0m\n\u001b[0m\u001b[1;32m   3822\u001b[0m         \u001b[0;32mreturn\u001b[0m \u001b[0mbm\u001b[0m\u001b[0;34m\u001b[0m\u001b[0m\n\u001b[1;32m   3823\u001b[0m \u001b[0;34m\u001b[0m\u001b[0m\n",
      "\u001b[0;32m~/.local/lib/python3.5/site-packages/pandas/core/internals.py\u001b[0m in \u001b[0;36m_consolidate_inplace\u001b[0;34m(self)\u001b[0m\n\u001b[1;32m   3824\u001b[0m     \u001b[0;32mdef\u001b[0m \u001b[0m_consolidate_inplace\u001b[0m\u001b[0;34m(\u001b[0m\u001b[0mself\u001b[0m\u001b[0;34m)\u001b[0m\u001b[0;34m:\u001b[0m\u001b[0;34m\u001b[0m\u001b[0m\n\u001b[1;32m   3825\u001b[0m         \u001b[0;32mif\u001b[0m \u001b[0;32mnot\u001b[0m \u001b[0mself\u001b[0m\u001b[0;34m.\u001b[0m\u001b[0mis_consolidated\u001b[0m\u001b[0;34m(\u001b[0m\u001b[0;34m)\u001b[0m\u001b[0;34m:\u001b[0m\u001b[0;34m\u001b[0m\u001b[0m\n\u001b[0;32m-> 3826\u001b[0;31m             \u001b[0mself\u001b[0m\u001b[0;34m.\u001b[0m\u001b[0mblocks\u001b[0m \u001b[0;34m=\u001b[0m \u001b[0mtuple\u001b[0m\u001b[0;34m(\u001b[0m\u001b[0m_consolidate\u001b[0m\u001b[0;34m(\u001b[0m\u001b[0mself\u001b[0m\u001b[0;34m.\u001b[0m\u001b[0mblocks\u001b[0m\u001b[0;34m)\u001b[0m\u001b[0;34m)\u001b[0m\u001b[0;34m\u001b[0m\u001b[0m\n\u001b[0m\u001b[1;32m   3827\u001b[0m             \u001b[0mself\u001b[0m\u001b[0;34m.\u001b[0m\u001b[0m_is_consolidated\u001b[0m \u001b[0;34m=\u001b[0m \u001b[0;32mTrue\u001b[0m\u001b[0;34m\u001b[0m\u001b[0m\n\u001b[1;32m   3828\u001b[0m             \u001b[0mself\u001b[0m\u001b[0;34m.\u001b[0m\u001b[0m_known_consolidated\u001b[0m \u001b[0;34m=\u001b[0m \u001b[0;32mTrue\u001b[0m\u001b[0;34m\u001b[0m\u001b[0m\n",
      "\u001b[0;32m~/.local/lib/python3.5/site-packages/pandas/core/internals.py\u001b[0m in \u001b[0;36m_consolidate\u001b[0;34m(blocks)\u001b[0m\n\u001b[1;32m   4846\u001b[0m     \u001b[0;32mfor\u001b[0m \u001b[0;34m(\u001b[0m\u001b[0m_can_consolidate\u001b[0m\u001b[0;34m,\u001b[0m \u001b[0mdtype\u001b[0m\u001b[0;34m)\u001b[0m\u001b[0;34m,\u001b[0m \u001b[0mgroup_blocks\u001b[0m \u001b[0;32min\u001b[0m \u001b[0mgrouper\u001b[0m\u001b[0;34m:\u001b[0m\u001b[0;34m\u001b[0m\u001b[0m\n\u001b[1;32m   4847\u001b[0m         merged_blocks = _merge_blocks(list(group_blocks), dtype=dtype,\n\u001b[0;32m-> 4848\u001b[0;31m                                       _can_consolidate=_can_consolidate)\n\u001b[0m\u001b[1;32m   4849\u001b[0m         \u001b[0mnew_blocks\u001b[0m \u001b[0;34m=\u001b[0m \u001b[0m_extend_blocks\u001b[0m\u001b[0;34m(\u001b[0m\u001b[0mmerged_blocks\u001b[0m\u001b[0;34m,\u001b[0m \u001b[0mnew_blocks\u001b[0m\u001b[0;34m)\u001b[0m\u001b[0;34m\u001b[0m\u001b[0m\n\u001b[1;32m   4850\u001b[0m     \u001b[0;32mreturn\u001b[0m \u001b[0mnew_blocks\u001b[0m\u001b[0;34m\u001b[0m\u001b[0m\n",
      "\u001b[0;32m~/.local/lib/python3.5/site-packages/pandas/core/internals.py\u001b[0m in \u001b[0;36m_merge_blocks\u001b[0;34m(blocks, dtype, _can_consolidate)\u001b[0m\n\u001b[1;32m   4869\u001b[0m \u001b[0;34m\u001b[0m\u001b[0m\n\u001b[1;32m   4870\u001b[0m         \u001b[0margsort\u001b[0m \u001b[0;34m=\u001b[0m \u001b[0mnp\u001b[0m\u001b[0;34m.\u001b[0m\u001b[0margsort\u001b[0m\u001b[0;34m(\u001b[0m\u001b[0mnew_mgr_locs\u001b[0m\u001b[0;34m)\u001b[0m\u001b[0;34m\u001b[0m\u001b[0m\n\u001b[0;32m-> 4871\u001b[0;31m         \u001b[0mnew_values\u001b[0m \u001b[0;34m=\u001b[0m \u001b[0mnew_values\u001b[0m\u001b[0;34m[\u001b[0m\u001b[0margsort\u001b[0m\u001b[0;34m]\u001b[0m\u001b[0;34m\u001b[0m\u001b[0m\n\u001b[0m\u001b[1;32m   4872\u001b[0m         \u001b[0mnew_mgr_locs\u001b[0m \u001b[0;34m=\u001b[0m \u001b[0mnew_mgr_locs\u001b[0m\u001b[0;34m[\u001b[0m\u001b[0margsort\u001b[0m\u001b[0;34m]\u001b[0m\u001b[0;34m\u001b[0m\u001b[0m\n\u001b[1;32m   4873\u001b[0m \u001b[0;34m\u001b[0m\u001b[0m\n",
      "\u001b[0;31mMemoryError\u001b[0m: "
     ]
    }
   ],
   "source": [
    "print('Adding lagged features')\n",
    "df_prev = df[['item_nbr', 'store_nbr', 'date', 'unit_sales']]\n",
    "df, cols_lagged = fill_lagged(df, df_prev, 12, 16, True)\n",
    "del df_prev\n",
    "gc.collect()\n",
    "!telegram-send \"Lagged and mean extraction is ready, starting validation.\""
   ]
  },
  {
   "cell_type": "code",
   "execution_count": null,
   "metadata": {},
   "outputs": [],
   "source": [
    "df.to_hdf('./data/train_extended.hdf')"
   ]
  },
  {
   "cell_type": "code",
   "execution_count": null,
   "metadata": {},
   "outputs": [],
   "source": [
    "folds = [('2017-05-01', '2017-06-15', '2017-06-16', '2017-06-30'),\n",
    "         ('2017-05-16', '2017-06-30', '2017-07-01', '2017-07-15'),\n",
    "         ('2017-06-01', '2017-07-15', '2017-07-16', '2017-07-31'),\n",
    "         ('2017-06-16', '2017-07-31', '2017-08-01', '2017-08-15')]\n",
    "\n",
    "param = {\n",
    "    'num_leaves':30,\n",
    "    'objective':'regression_l2',\n",
    "    'metric':'l2_root',\n",
    "    'num_threads':4\n",
    "        }"
   ]
  },
  {
   "cell_type": "code",
   "execution_count": null,
   "metadata": {},
   "outputs": [],
   "source": [
    "results = []\n",
    "bsts = []\n",
    "x_cols = cols_categories + ['onpromotion'] + cols_lagged + cols_mean\n",
    "print('X cols: {}'.format(x_cols))\n",
    "\n",
    "for train_start, train_end, test_start, test_end in folds:\n",
    "    print(\"Extracting fold...\")\n",
    "    train = extract_by_date(df, train_start, train_end)\n",
    "    test= extract_by_date(df, test_start, test_end)\n",
    "    \n",
    "    print(\"Preparing train...\")\n",
    "    train_X = train[x_cols]\n",
    "    train_y = train['unit_sales']\n",
    "    train_weights = get_weights(train['item_nbr'])\n",
    "    train_dataset = lgb.Dataset(train_X, label=train_y, weight=train_weights)\n",
    "    #del train\n",
    "    \n",
    "    print(\"Preparing test...\")\n",
    "    test_X = test[x_cols].fillna(0.0)\n",
    "    test_y = test['unit_sales']\n",
    "    test_weights = get_weights(test['item_nbr'])\n",
    "    test_dataset = lgb.Dataset(test_X, label=test_y, weight=test_weights, reference=train_dataset)\n",
    "    #del test\n",
    "    \n",
    "    print(\"Training!\")\n",
    "    bst = lgb.train(param, \n",
    "                    train_dataset, \n",
    "                    200,\n",
    "                    valid_sets=[test_dataset], \n",
    "                    early_stopping_rounds=10, \n",
    "                    verbose_eval=True, \n",
    "                    feature_name=x_cols, \n",
    "                    categorical_feature=ext_cols)\n",
    "    \n",
    "#     test_y_pred = bst.predict(test_X)\n",
    "#     error = NWRMSLE_log(test_y_pred, test_y, test_weights)\n",
    "#     print('Validation error: {}'.format(error))\n",
    "    \n",
    "    results.append((bst.best_iteration, error))\n",
    "    bsts.append(bst)"
   ]
  },
  {
   "cell_type": "code",
   "execution_count": null,
   "metadata": {},
   "outputs": [],
   "source": [
    "!telegram-send \"Mean lagged xgb validation finished. Results: $results\""
   ]
  },
  {
   "cell_type": "code",
   "execution_count": null,
   "metadata": {},
   "outputs": [],
   "source": [
    "bsts[0]"
   ]
  },
  {
   "cell_type": "code",
   "execution_count": null,
   "metadata": {},
   "outputs": [
    {
     "name": "stderr",
     "output_type": "stream",
     "text": [
      "C:\\Users\\Anatoliy\\Anaconda2\\envs\\py35\\lib\\site-packages\\lightgbm\\basic.py:1007: UserWarning: categorical_feature in Dataset is overrided. New categorical_feature is ['city', 'class', 'cluster', 'family', 'perishable', 'salary', 'state', 'type', 'weekday', 'weekend']\n",
      "  warnings.warn('categorical_feature in Dataset is overrided. New categorical_feature is {}'.format(sorted(list(categorical_feature))))\n"
     ]
    }
   ],
   "source": [
    "param['task'] = 'prediction'\n",
    "start = '2017-07-01'\n",
    "end = '2017-08-15'\n",
    "num_round = 100\n",
    "train = extract_by_date(df, start, end)\n",
    "train, ext_cols = extend_dataset(train, items, stores)\n",
    "x_cols = ext_cols + ['onpromotion'] + lagged_cols\n",
    "train_X = train[x_cols]\n",
    "train_y = train['unit_sales']\n",
    "train_weights = get_weights(train['item_nbr'])\n",
    "train_dataset = lgb.Dataset(train_X, label=train_y, weight=train_weights)\n",
    "bst = lgb.train(param, \n",
    "                train_dataset,\n",
    "                num_round,\n",
    "                feature_name=x_cols, \n",
    "                categorical_feature=ext_cols)"
   ]
  },
  {
   "cell_type": "code",
   "execution_count": null,
   "metadata": {
    "collapsed": true
   },
   "outputs": [],
   "source": [
    "test = pd.read_csv('./data/test_processed.csv', dtype=types)\n",
    "\n",
    "df_prev = extract_by_date(df, '2017-07-25', '2017-08-15')\n",
    "test = fill_mean_encoding(test, df_prev)\n",
    "test = fill_lagged(test, df_prev, 12, 18)\n",
    "\n",
    "test, ext_cols = extend_dataset(test, items, stores)\n",
    "x_cols = ext_cols + ['onpromotion'] + lagged_cols\n",
    "test_X = test[x_cols]\n",
    "test['unit_sales'] = bst.predict(test_X)"
   ]
  },
  {
   "cell_type": "code",
   "execution_count": null,
   "metadata": {
    "collapsed": true
   },
   "outputs": [],
   "source": [
    "test.sort_values(by='id', inplace=True)\n",
    "test.ix[test.unit_sales < 0, 'unit_sales'] = 0\n",
    "test[['id', 'unit_sales']].to_csv('./submissions/lgb_mean_encoded_lagged_0.54.csv.gz', float_format=\"%.4f\", index=False, compression='gzip')\n",
    "!telegram-send \"Submission done.\""
   ]
  },
  {
   "cell_type": "code",
   "execution_count": null,
   "metadata": {
    "collapsed": true
   },
   "outputs": [],
   "source": []
  }
 ],
 "metadata": {
  "anaconda-cloud": {},
  "kernelspec": {
   "display_name": "Python 3",
   "language": "python",
   "name": "python3"
  },
  "language_info": {
   "codemirror_mode": {
    "name": "ipython",
    "version": 3
   },
   "file_extension": ".py",
   "mimetype": "text/x-python",
   "name": "python",
   "nbconvert_exporter": "python",
   "pygments_lexer": "ipython3",
   "version": "3.5.2"
  }
 },
 "nbformat": 4,
 "nbformat_minor": 1
}
