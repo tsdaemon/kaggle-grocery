{
 "cells": [
  {
   "cell_type": "code",
   "execution_count": 2,
   "metadata": {
    "collapsed": false
   },
   "outputs": [],
   "source": [
    "import pandas as pd\n",
    "\n",
    "df_train = pd.read_csv('./data/train.csv', usecols=[1, 2, 3, 4], skiprows=range(1, 124035460),\n",
    "    converters={'unit_sales': lambda u: pd.np.log1p(float(u)) if float(u) > 0 else 0}\n",
    ")\n",
    "\n",
    "# Fill gaps in dates\n",
    "u_dates = df_train.date.unique()\n",
    "u_stores = df_train.store_nbr.unique()\n",
    "u_items = df_train.item_nbr.unique()\n",
    "df_train.set_index([\"date\", \"store_nbr\", \"item_nbr\"], inplace=True)\n",
    "df_train = df_train.reindex(\n",
    "    pd.MultiIndex.from_product(\n",
    "        (u_dates, u_stores, u_items),\n",
    "        names=[\"date\", \"store_nbr\", \"item_nbr\"]\n",
    "    )\n",
    ")\n",
    "\n",
    "# Fill NAs\n",
    "df_train.loc[:, \"unit_sales\"].fillna(0, inplace=True)\n",
    "df_train.reset_index(inplace=True)"
   ]
  },
  {
   "cell_type": "code",
   "execution_count": null,
   "metadata": {
    "collapsed": true
   },
   "outputs": [],
   "source": [
    "# Calculate means\n",
    "df_train = df_train.groupby(\n",
    "        ['item_nbr','store_nbr']\n",
    "        )['unit_sales'].mean().to_frame('unit_sales').apply(pd.np.expm1)"
   ]
  },
  {
   "cell_type": "code",
   "execution_count": 6,
   "metadata": {
    "collapsed": false
   },
   "outputs": [],
   "source": [
    "# Create submission\n",
    "subm = pd.read_csv(\n",
    "    \"./data/test.csv\", usecols=[0, 2, 3]\n",
    ").set_index(\n",
    "    ['item_nbr', 'store_nbr']\n",
    ").join(\n",
    "    df_train, how='left'\n",
    ").fillna(0).sort_values(by='id')\n",
    "\n",
    "subm.to_csv('./submissions/meanlog.csv.gz', float_format='%.3f', index=None, compression=\"gzip\")"
   ]
  },
  {
   "cell_type": "code",
   "execution_count": 7,
   "metadata": {
    "collapsed": true
   },
   "outputs": [],
   "source": [
    "!telegram-send \"submission done\""
   ]
  },
  {
   "cell_type": "code",
   "execution_count": null,
   "metadata": {
    "collapsed": true
   },
   "outputs": [],
   "source": []
  }
 ],
 "metadata": {
  "kernelspec": {
   "display_name": "Python [py35]",
   "language": "python",
   "name": "Python [py35]"
  },
  "language_info": {
   "codemirror_mode": {
    "name": "ipython",
    "version": 3
   },
   "file_extension": ".py",
   "mimetype": "text/x-python",
   "name": "python",
   "nbconvert_exporter": "python",
   "pygments_lexer": "ipython3",
   "version": "3.5.2"
  }
 },
 "nbformat": 4,
 "nbformat_minor": 0
}
