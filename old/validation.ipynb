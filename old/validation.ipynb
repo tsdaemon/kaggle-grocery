{
 "cells": [
  {
   "cell_type": "code",
   "execution_count": 1,
   "metadata": {
    "collapsed": true
   },
   "outputs": [],
   "source": [
    "from mapreduce import FilteringMapReduce, map_reduce_df\n",
    "from dateutil.parser import parse\n",
    "from datetime import timedelta"
   ]
  },
  {
   "cell_type": "code",
   "execution_count": 2,
   "metadata": {
    "collapsed": false
   },
   "outputs": [],
   "source": [
    "# each fold either from 01 to 15 or from 16 till the end of month\n",
    "fold1 = {'start':'2017-07-01', 'end':'2017-07-15'}\n",
    "fold2 = {'start':'2017-07-16', 'end':'2017-07-31'}\n",
    "fold3 = {'start':'2017-08-01', 'end':'2017-08-15'}\n",
    "\n",
    "start = parse('2017-07-01')\n",
    "end = parse('2017-08-15')\n",
    "\n",
    "days = []\n",
    "while start <= end:\n",
    "    days.append(start.strftime('%Y-%m-%d'))\n",
    "    start = start + timedelta(days=1)"
   ]
  },
  {
   "cell_type": "code",
   "execution_count": 3,
   "metadata": {
    "collapsed": false
   },
   "outputs": [
    {
     "name": "stdout",
     "output_type": "stream",
     "text": [
      "Reading from position 120000000, batch size 10000000...\n",
      "Filtering 5497041...\n",
      "Filtered 4854129, mapping...\n",
      "Mapped, reducing...\n",
      "Done.\n",
      "End of dataset is found.\n"
     ]
    }
   ],
   "source": [
    "filter_func = lambda df: df[df.date.isin(days)]\n",
    "cols = ['date', 'store_nbr', 'item_nbr', 'unit_sales', 'onpromotion']\n",
    "mapreduce = FilteringMapReduce(filter_func, cols)\n",
    "types = {'id': 'int32',\n",
    "         'item_nbr': 'int32',\n",
    "         'store_nbr': 'int16',\n",
    "         'unit_sales': 'float32',\n",
    "         'onpromotion': bool,\n",
    "        }\n",
    "validation_df = map_reduce_df('./data/train.csv', mapreduce, types=types, position=120000000, cols=cols, verbose=True)"
   ]
  },
  {
   "cell_type": "code",
   "execution_count": 4,
   "metadata": {
    "collapsed": false
   },
   "outputs": [
    {
     "data": {
      "text/html": [
       "<div>\n",
       "<table border=\"1\" class=\"dataframe\">\n",
       "  <thead>\n",
       "    <tr style=\"text-align: right;\">\n",
       "      <th></th>\n",
       "      <th>date</th>\n",
       "      <th>store_nbr</th>\n",
       "      <th>item_nbr</th>\n",
       "      <th>unit_sales</th>\n",
       "      <th>onpromotion</th>\n",
       "    </tr>\n",
       "  </thead>\n",
       "  <tbody>\n",
       "    <tr>\n",
       "      <th>120642911</th>\n",
       "      <td>2017-07-01</td>\n",
       "      <td>1.0</td>\n",
       "      <td>99197.0</td>\n",
       "      <td>2.0</td>\n",
       "      <td>False</td>\n",
       "    </tr>\n",
       "    <tr>\n",
       "      <th>120642912</th>\n",
       "      <td>2017-07-01</td>\n",
       "      <td>1.0</td>\n",
       "      <td>103520.0</td>\n",
       "      <td>2.0</td>\n",
       "      <td>False</td>\n",
       "    </tr>\n",
       "    <tr>\n",
       "      <th>120642913</th>\n",
       "      <td>2017-07-01</td>\n",
       "      <td>1.0</td>\n",
       "      <td>103665.0</td>\n",
       "      <td>11.0</td>\n",
       "      <td>False</td>\n",
       "    </tr>\n",
       "    <tr>\n",
       "      <th>120642914</th>\n",
       "      <td>2017-07-01</td>\n",
       "      <td>1.0</td>\n",
       "      <td>105574.0</td>\n",
       "      <td>2.0</td>\n",
       "      <td>False</td>\n",
       "    </tr>\n",
       "    <tr>\n",
       "      <th>120642915</th>\n",
       "      <td>2017-07-01</td>\n",
       "      <td>1.0</td>\n",
       "      <td>105575.0</td>\n",
       "      <td>3.0</td>\n",
       "      <td>False</td>\n",
       "    </tr>\n",
       "  </tbody>\n",
       "</table>\n",
       "</div>"
      ],
      "text/plain": [
       "                 date  store_nbr  item_nbr  unit_sales onpromotion\n",
       "120642911  2017-07-01        1.0   99197.0         2.0       False\n",
       "120642912  2017-07-01        1.0  103520.0         2.0       False\n",
       "120642913  2017-07-01        1.0  103665.0        11.0       False\n",
       "120642914  2017-07-01        1.0  105574.0         2.0       False\n",
       "120642915  2017-07-01        1.0  105575.0         3.0       False"
      ]
     },
     "execution_count": 4,
     "metadata": {},
     "output_type": "execute_result"
    }
   ],
   "source": [
    "validation_df.head()"
   ]
  },
  {
   "cell_type": "code",
   "execution_count": null,
   "metadata": {
    "collapsed": true
   },
   "outputs": [],
   "source": []
  }
 ],
 "metadata": {
  "anaconda-cloud": {},
  "kernelspec": {
   "display_name": "Python [py35]",
   "language": "python",
   "name": "Python [py35]"
  },
  "language_info": {
   "codemirror_mode": {
    "name": "ipython",
    "version": 3
   },
   "file_extension": ".py",
   "mimetype": "text/x-python",
   "name": "python",
   "nbconvert_exporter": "python",
   "pygments_lexer": "ipython3",
   "version": "3.5.2"
  }
 },
 "nbformat": 4,
 "nbformat_minor": 0
}
