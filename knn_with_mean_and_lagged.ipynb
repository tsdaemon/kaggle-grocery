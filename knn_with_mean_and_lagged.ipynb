{
 "cells": [
  {
   "cell_type": "code",
   "execution_count": 1,
   "metadata": {},
   "outputs": [],
   "source": [
    "import pandas as pd\n",
    "from sklearn.neighbors import KNeighborsRegressor\n",
    "import numpy as np\n",
    "import gc\n",
    "import itertools\n",
    "import matplotlib.pyplot as plt\n",
    "%matplotlib inline\n",
    "plt.rcParams['figure.figsize'] = (10, 6)\n",
    "\n",
    "from importlib import reload\n",
    "import date\n",
    "reload(date)\n",
    "from date import *\n",
    "import model\n",
    "reload(model)\n",
    "from model import *\n",
    "from metric import get_weights, NWRMSLE_log"
   ]
  },
  {
   "cell_type": "code",
   "execution_count": 2,
   "metadata": {},
   "outputs": [
    {
     "name": "stdout",
     "output_type": "stream",
     "text": [
      "Reading batch from position 110000000, batch size 10000000...\n",
      "Filtering 10000000...\n",
      "Filtered 8659998, mapping...\n",
      "Mapped, reducing...\n",
      "Batch done.\n",
      "================================================================================\n",
      "Reading batch from position 120000000, batch size 10000000...\n",
      "Filtering 5497041...\n",
      "Filtered 5497041, mapping...\n",
      "Mapped, reducing...\n",
      "Batch done.\n",
      "End of dataset is found.\n"
     ]
    }
   ],
   "source": [
    "df = load_data_in_date_range('./data/train_processed.csv', '2017-04-04', '2017-08-15', 110000000)"
   ]
  },
  {
   "cell_type": "code",
   "execution_count": 3,
   "metadata": {},
   "outputs": [
    {
     "name": "stdout",
     "output_type": "stream",
     "text": [
      "Reading additional datasets\n"
     ]
    }
   ],
   "source": [
    "print('Reading additional datasets')\n",
    "items = pd.read_csv('./data/items_encoded.csv')\n",
    "stores = pd.read_csv('./data/stores_encoded.csv')"
   ]
  },
  {
   "cell_type": "code",
   "execution_count": 4,
   "metadata": {},
   "outputs": [
    {
     "name": "stdout",
     "output_type": "stream",
     "text": [
      "Converting data and joining additional data\n"
     ]
    },
    {
     "data": {
      "text/plain": [
       "219"
      ]
     },
     "execution_count": 4,
     "metadata": {},
     "output_type": "execute_result"
    }
   ],
   "source": [
    "print('Converting data and joining additional data')\n",
    "df = convert_unit_sales(df)\n",
    "df = fill_empty_sales(df)\n",
    "df, cols_categories = extend_dataset(df, items, stores)\n",
    "del df['id']\n",
    "del df['weight']\n",
    "gc.collect()"
   ]
  },
  {
   "cell_type": "code",
   "execution_count": 5,
   "metadata": {},
   "outputs": [
    {
     "name": "stdout",
     "output_type": "stream",
     "text": [
      "Adding lagged features\n"
     ]
    },
    {
     "name": "stderr",
     "output_type": "stream",
     "text": [
      "/home/ubuntu/.local/lib/python3.5/site-packages/pandas/core/generic.py:3643: SettingWithCopyWarning: \n",
      "A value is trying to be set on a copy of a slice from a DataFrame.\n",
      "Try using .loc[row_indexer,col_indexer] = value instead\n",
      "\n",
      "See the caveats in the documentation: http://pandas.pydata.org/pandas-docs/stable/indexing.html#indexing-view-versus-copy\n",
      "  self[name] = value\n",
      "/home/ubuntu/grocery/model.py:52: SettingWithCopyWarning: \n",
      "A value is trying to be set on a copy of a slice from a DataFrame.\n",
      "Try using .loc[row_indexer,col_indexer] = value instead\n",
      "\n",
      "See the caveats in the documentation: http://pandas.pydata.org/pandas-docs/stable/indexing.html#indexing-view-versus-copy\n",
      "  df_prev[colname] = df_prev['unit_sales']\n"
     ]
    },
    {
     "name": "stdout",
     "output_type": "stream",
     "text": [
      "Processing lagged 12...\n",
      "Lagged 12 is done.\n",
      "Processing lagged 13...\n",
      "Lagged 13 is done.\n",
      "Processing lagged 14...\n",
      "Lagged 14 is done.\n",
      "Processing lagged 15...\n",
      "Lagged 15 is done.\n",
      "Processing lagged 16...\n",
      "Lagged 16 is done.\n",
      "Processing lagged 17...\n",
      "Lagged 17 is done.\n",
      "Processing lagged 18...\n",
      "Lagged 18 is done.\n"
     ]
    },
    {
     "data": {
      "text/html": [
       "<div>\n",
       "<style scoped>\n",
       "    .dataframe tbody tr th:only-of-type {\n",
       "        vertical-align: middle;\n",
       "    }\n",
       "\n",
       "    .dataframe tbody tr th {\n",
       "        vertical-align: top;\n",
       "    }\n",
       "\n",
       "    .dataframe thead th {\n",
       "        text-align: right;\n",
       "    }\n",
       "</style>\n",
       "<table border=\"1\" class=\"dataframe\">\n",
       "  <thead>\n",
       "    <tr style=\"text-align: right;\">\n",
       "      <th></th>\n",
       "      <th>date</th>\n",
       "      <th>store_nbr</th>\n",
       "      <th>item_nbr</th>\n",
       "      <th>unit_sales</th>\n",
       "      <th>onpromotion</th>\n",
       "      <th>weekday</th>\n",
       "      <th>weekend</th>\n",
       "      <th>salary</th>\n",
       "      <th>family</th>\n",
       "      <th>class</th>\n",
       "      <th>...</th>\n",
       "      <th>state</th>\n",
       "      <th>type</th>\n",
       "      <th>cluster</th>\n",
       "      <th>unit_sales(t-12)</th>\n",
       "      <th>unit_sales(t-13)</th>\n",
       "      <th>unit_sales(t-14)</th>\n",
       "      <th>unit_sales(t-15)</th>\n",
       "      <th>unit_sales(t-16)</th>\n",
       "      <th>unit_sales(t-17)</th>\n",
       "      <th>unit_sales(t-18)</th>\n",
       "    </tr>\n",
       "  </thead>\n",
       "  <tbody>\n",
       "    <tr>\n",
       "      <th>0</th>\n",
       "      <td>1635</td>\n",
       "      <td>46</td>\n",
       "      <td>1695836</td>\n",
       "      <td>2.735787</td>\n",
       "      <td>False</td>\n",
       "      <td>5</td>\n",
       "      <td>True</td>\n",
       "      <td>False</td>\n",
       "      <td>30</td>\n",
       "      <td>2004</td>\n",
       "      <td>...</td>\n",
       "      <td>12</td>\n",
       "      <td>0</td>\n",
       "      <td>14</td>\n",
       "      <td>2.995732</td>\n",
       "      <td>3.288285</td>\n",
       "      <td>3.194839</td>\n",
       "      <td>2.603847</td>\n",
       "      <td>2.442347</td>\n",
       "      <td>3.597312</td>\n",
       "      <td>2.956699</td>\n",
       "    </tr>\n",
       "    <tr>\n",
       "      <th>1</th>\n",
       "      <td>1636</td>\n",
       "      <td>46</td>\n",
       "      <td>1695836</td>\n",
       "      <td>3.821825</td>\n",
       "      <td>False</td>\n",
       "      <td>6</td>\n",
       "      <td>True</td>\n",
       "      <td>False</td>\n",
       "      <td>30</td>\n",
       "      <td>2004</td>\n",
       "      <td>...</td>\n",
       "      <td>12</td>\n",
       "      <td>0</td>\n",
       "      <td>14</td>\n",
       "      <td>2.545531</td>\n",
       "      <td>2.995732</td>\n",
       "      <td>3.288285</td>\n",
       "      <td>3.194839</td>\n",
       "      <td>2.603847</td>\n",
       "      <td>2.442347</td>\n",
       "      <td>3.597312</td>\n",
       "    </tr>\n",
       "    <tr>\n",
       "      <th>2</th>\n",
       "      <td>1637</td>\n",
       "      <td>46</td>\n",
       "      <td>1695836</td>\n",
       "      <td>2.530094</td>\n",
       "      <td>False</td>\n",
       "      <td>0</td>\n",
       "      <td>False</td>\n",
       "      <td>False</td>\n",
       "      <td>30</td>\n",
       "      <td>2004</td>\n",
       "      <td>...</td>\n",
       "      <td>12</td>\n",
       "      <td>0</td>\n",
       "      <td>14</td>\n",
       "      <td>3.076736</td>\n",
       "      <td>2.545531</td>\n",
       "      <td>2.995732</td>\n",
       "      <td>3.288285</td>\n",
       "      <td>3.194839</td>\n",
       "      <td>2.603847</td>\n",
       "      <td>2.442347</td>\n",
       "    </tr>\n",
       "    <tr>\n",
       "      <th>3</th>\n",
       "      <td>1638</td>\n",
       "      <td>46</td>\n",
       "      <td>1695836</td>\n",
       "      <td>2.697052</td>\n",
       "      <td>False</td>\n",
       "      <td>1</td>\n",
       "      <td>False</td>\n",
       "      <td>False</td>\n",
       "      <td>30</td>\n",
       "      <td>2004</td>\n",
       "      <td>...</td>\n",
       "      <td>12</td>\n",
       "      <td>0</td>\n",
       "      <td>14</td>\n",
       "      <td>2.978395</td>\n",
       "      <td>3.076736</td>\n",
       "      <td>2.545531</td>\n",
       "      <td>2.995732</td>\n",
       "      <td>3.288285</td>\n",
       "      <td>3.194839</td>\n",
       "      <td>2.603847</td>\n",
       "    </tr>\n",
       "    <tr>\n",
       "      <th>4</th>\n",
       "      <td>1639</td>\n",
       "      <td>46</td>\n",
       "      <td>1695836</td>\n",
       "      <td>2.812786</td>\n",
       "      <td>True</td>\n",
       "      <td>2</td>\n",
       "      <td>False</td>\n",
       "      <td>False</td>\n",
       "      <td>30</td>\n",
       "      <td>2004</td>\n",
       "      <td>...</td>\n",
       "      <td>12</td>\n",
       "      <td>0</td>\n",
       "      <td>14</td>\n",
       "      <td>2.652361</td>\n",
       "      <td>2.978395</td>\n",
       "      <td>3.076736</td>\n",
       "      <td>2.545531</td>\n",
       "      <td>2.995732</td>\n",
       "      <td>3.288285</td>\n",
       "      <td>3.194839</td>\n",
       "    </tr>\n",
       "  </tbody>\n",
       "</table>\n",
       "<p>5 rows × 22 columns</p>\n",
       "</div>"
      ],
      "text/plain": [
       "   date  store_nbr  item_nbr  unit_sales  onpromotion  weekday  weekend  \\\n",
       "0  1635         46   1695836    2.735787        False        5     True   \n",
       "1  1636         46   1695836    3.821825        False        6     True   \n",
       "2  1637         46   1695836    2.530094        False        0    False   \n",
       "3  1638         46   1695836    2.697052        False        1    False   \n",
       "4  1639         46   1695836    2.812786         True        2    False   \n",
       "\n",
       "   salary  family  class        ...         state  type  cluster  \\\n",
       "0   False      30   2004        ...            12     0       14   \n",
       "1   False      30   2004        ...            12     0       14   \n",
       "2   False      30   2004        ...            12     0       14   \n",
       "3   False      30   2004        ...            12     0       14   \n",
       "4   False      30   2004        ...            12     0       14   \n",
       "\n",
       "   unit_sales(t-12)  unit_sales(t-13)  unit_sales(t-14)  unit_sales(t-15)  \\\n",
       "0          2.995732          3.288285          3.194839          2.603847   \n",
       "1          2.545531          2.995732          3.288285          3.194839   \n",
       "2          3.076736          2.545531          2.995732          3.288285   \n",
       "3          2.978395          3.076736          2.545531          2.995732   \n",
       "4          2.652361          2.978395          3.076736          2.545531   \n",
       "\n",
       "   unit_sales(t-16)  unit_sales(t-17)  unit_sales(t-18)  \n",
       "0          2.442347          3.597312          2.956699  \n",
       "1          2.603847          2.442347          3.597312  \n",
       "2          3.194839          2.603847          2.442347  \n",
       "3          3.288285          3.194839          2.603847  \n",
       "4          2.995732          3.288285          3.194839  \n",
       "\n",
       "[5 rows x 22 columns]"
      ]
     },
     "execution_count": 5,
     "metadata": {},
     "output_type": "execute_result"
    }
   ],
   "source": [
    "print('Adding lagged features')\n",
    "df_prev = df[['item_nbr', 'store_nbr', 'date', 'unit_sales']]\n",
    "df, cols_lagged = fill_lagged(df, df_prev, 12, 18, True)\n",
    "del df_prev\n",
    "gc.collect()\n",
    "df.head()"
   ]
  },
  {
   "cell_type": "code",
   "execution_count": 6,
   "metadata": {},
   "outputs": [
    {
     "data": {
      "text/plain": [
       "0"
      ]
     },
     "execution_count": 6,
     "metadata": {},
     "output_type": "execute_result"
    }
   ],
   "source": [
    "df['date'] = df['date'].astype('int16', copy=False)\n",
    "df['store_nbr'] = df['store_nbr'].astype('int16', copy=False)\n",
    "df['item_nbr'] = df['item_nbr'].astype('int32', copy=False)\n",
    "df['weekday'] = df['weekday'].astype('int16', copy=False)\n",
    "df['family'] = df['family'].astype('int16', copy=False)\n",
    "df['class'] = df['class'].astype('int16', copy=False)\n",
    "df['perishable'] = df['perishable'].astype('bool', copy=False)\n",
    "df['city'] = df['city'].astype('int16', copy=False)\n",
    "df['state'] = df['state'].astype('int16', copy=False)\n",
    "df['type'] = df['type'].astype('int16', copy=False)\n",
    "df['cluster'] = df['cluster'].astype('int16', copy=False)\n",
    "gc.collect()"
   ]
  },
  {
   "cell_type": "code",
   "execution_count": null,
   "metadata": {},
   "outputs": [],
   "source": [
    "folds = [('2017-06-16', '2017-06-30', '2017-07-01', '2017-07-15'),\n",
    "         ('2017-07-01', '2017-07-15', '2017-07-16', '2017-07-31'),\n",
    "         ('2017-07-16', '2017-07-31', '2017-08-01', '2017-08-15')]"
   ]
  },
  {
   "cell_type": "code",
   "execution_count": null,
   "metadata": {},
   "outputs": [
    {
     "name": "stdout",
     "output_type": "stream",
     "text": [
      "Extracting fold...\n",
      "Preparing train...\n",
      "Preparing test...\n"
     ]
    }
   ],
   "source": [
    "errors = []\n",
    "models = []\n",
    "\n",
    "x_cols = cols_lagged\n",
    "\n",
    "for train_start, train_end, test_start, test_end in folds:\n",
    "    print(\"Extracting fold...\")\n",
    "    train = extract_by_date(df, train_start, train_end)\n",
    "    test= extract_by_date(df, test_start, test_end)\n",
    "    \n",
    "    print(\"Preparing train...\")\n",
    "    train_X = train[x_cols].fillna(0.0)\n",
    "    train_y = train['unit_sales']\n",
    "    \n",
    "    print(\"Preparing test...\")\n",
    "    test_X = test[x_cols].fillna(0.0)\n",
    "    test_y = test['unit_sales']\n",
    "    test_weights = get_weights(test['item_nbr'])\n",
    "\n",
    "    print(\"=\"*80)\n",
    "    model = KNeighborsRegressor(n_neighbors=10, metric='canberra', n_jobs=4)\n",
    "    print(\"=\"*80)\n",
    "    model.fit(train_X, train_y)\n",
    "    \n",
    "    test_y_pred = model.predict(test_X)\n",
    "    error = NWRMSLE_log(test_y_pred, test_y, test_weights)\n",
    "    print('Validation error: {}'.format(error))\n",
    "\n",
    "    errors.append(error)\n",
    "    model.append(model)"
   ]
  },
  {
   "cell_type": "code",
   "execution_count": null,
   "metadata": {},
   "outputs": [],
   "source": [
    "!telegram-send \"KNN validation finished. Results: $errors\""
   ]
  },
  {
   "cell_type": "code",
   "execution_count": null,
   "metadata": {},
   "outputs": [],
   "source": []
  }
 ],
 "metadata": {
  "kernelspec": {
   "display_name": "Python 3",
   "language": "python",
   "name": "python3"
  },
  "language_info": {
   "codemirror_mode": {
    "name": "ipython",
    "version": 3
   },
   "file_extension": ".py",
   "mimetype": "text/x-python",
   "name": "python",
   "nbconvert_exporter": "python",
   "pygments_lexer": "ipython3",
   "version": "3.5.2"
  }
 },
 "nbformat": 4,
 "nbformat_minor": 2
}
