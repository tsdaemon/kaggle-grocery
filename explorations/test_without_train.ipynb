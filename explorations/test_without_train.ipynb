{
 "cells": [
  {
   "cell_type": "code",
   "execution_count": 1,
   "metadata": {
    "collapsed": true
   },
   "outputs": [],
   "source": [
    "from mapreduce import *"
   ]
  },
  {
   "cell_type": "code",
   "execution_count": 6,
   "metadata": {
    "collapsed": true
   },
   "outputs": [],
   "source": [
    "class AllUniqueItemsStorePairs(MapReduceAbstract):\n",
    "    def map(self, df_batch):\n",
    "        pairs = df_batch.groupby(['item_nbr', 'store_nbr'], as_index=False).mean()[['item_nbr', 'store_nbr']]\n",
    "        return list(pairs.itertuples(index=False))\n",
    "\n",
    "    def reduce(self, ls, ls2):\n",
    "        return set(ls + list(ls2))\n",
    "\n",
    "    def filter(self, df_batch):\n",
    "        return df_batch"
   ]
  },
  {
   "cell_type": "code",
   "execution_count": 7,
   "metadata": {
    "collapsed": false
   },
   "outputs": [
    {
     "name": "stdout",
     "output_type": "stream",
     "text": [
      "Reading batch from position 0, batch size 10000000...\n",
      "Filtering 10000000...\n",
      "Filtered 10000000, mapping...\n",
      "Mapped, reducing...\n",
      "Batch done.\n",
      "Reading batch from position 10000000, batch size 10000000...\n",
      "Filtering 10000000...\n",
      "Filtered 10000000, mapping...\n",
      "Mapped, reducing...\n",
      "Batch done.\n",
      "Reading batch from position 20000000, batch size 10000000...\n",
      "Filtering 10000000...\n",
      "Filtered 10000000, mapping...\n",
      "Mapped, reducing...\n",
      "Batch done.\n",
      "Reading batch from position 30000000, batch size 10000000...\n",
      "Filtering 10000000...\n",
      "Filtered 10000000, mapping...\n",
      "Mapped, reducing...\n",
      "Batch done.\n",
      "Reading batch from position 40000000, batch size 10000000...\n",
      "Filtering 10000000...\n",
      "Filtered 10000000, mapping...\n",
      "Mapped, reducing...\n",
      "Batch done.\n",
      "Reading batch from position 50000000, batch size 10000000...\n",
      "Filtering 10000000...\n",
      "Filtered 10000000, mapping...\n",
      "Mapped, reducing...\n",
      "Batch done.\n",
      "Reading batch from position 60000000, batch size 10000000...\n",
      "Filtering 10000000...\n",
      "Filtered 10000000, mapping...\n",
      "Mapped, reducing...\n",
      "Batch done.\n",
      "Reading batch from position 70000000, batch size 10000000...\n",
      "Filtering 10000000...\n",
      "Filtered 10000000, mapping...\n",
      "Mapped, reducing...\n",
      "Batch done.\n",
      "Reading batch from position 80000000, batch size 10000000...\n",
      "Filtering 10000000...\n",
      "Filtered 10000000, mapping...\n",
      "Mapped, reducing...\n",
      "Batch done.\n",
      "Reading batch from position 90000000, batch size 10000000...\n",
      "Filtering 10000000...\n",
      "Filtered 10000000, mapping...\n",
      "Mapped, reducing...\n",
      "Batch done.\n",
      "Reading batch from position 100000000, batch size 10000000...\n",
      "Filtering 10000000...\n",
      "Filtered 10000000, mapping...\n",
      "Mapped, reducing...\n",
      "Batch done.\n",
      "Reading batch from position 110000000, batch size 10000000...\n",
      "Filtering 10000000...\n",
      "Filtered 10000000, mapping...\n",
      "Mapped, reducing...\n",
      "Batch done.\n",
      "Reading batch from position 120000000, batch size 10000000...\n",
      "Filtering 5497041...\n",
      "Filtered 5497041, mapping...\n",
      "Mapped, reducing...\n",
      "Batch done.\n",
      "End of dataset is found.\n"
     ]
    }
   ],
   "source": [
    "mapreduce = AllUniqueItemsStorePairs()\n",
    "types = {'id': 'int32',\n",
    "         'date': 'int16',\n",
    "         'item_nbr': 'int32',\n",
    "         'store_nbr': 'int16',\n",
    "         'unit_sales': 'float32',\n",
    "         'onpromotion': bool}\n",
    "\n",
    "train_pairs = map_reduce_df('./data/train_processed.csv', mapreduce, types=types, verbose=True, batch_size=10000000)"
   ]
  },
  {
   "cell_type": "code",
   "execution_count": 17,
   "metadata": {
    "collapsed": false
   },
   "outputs": [
    {
     "data": {
      "text/plain": [
       "174685"
      ]
     },
     "execution_count": 17,
     "metadata": {},
     "output_type": "execute_result"
    }
   ],
   "source": [
    "len(train_pairs)"
   ]
  },
  {
   "cell_type": "code",
   "execution_count": 18,
   "metadata": {
    "collapsed": false
   },
   "outputs": [
    {
     "data": {
      "text/plain": [
       "210654"
      ]
     },
     "execution_count": 18,
     "metadata": {},
     "output_type": "execute_result"
    }
   ],
   "source": [
    "test = pd.read_csv('./data/test.csv')\n",
    "test_pairs = set(test.groupby(['item_nbr', 'store_nbr'], as_index=False).mean()[['item_nbr', 'store_nbr']].itertuples(index=False))\n",
    "len(test_pairs)"
   ]
  },
  {
   "cell_type": "code",
   "execution_count": 15,
   "metadata": {
    "collapsed": false
   },
   "outputs": [
    {
     "data": {
      "text/plain": [
       "8472"
      ]
     },
     "execution_count": 15,
     "metadata": {},
     "output_type": "execute_result"
    }
   ],
   "source": [
    "not_in_test_pairs = train_pairs-test_pairs\n",
    "len(not_in_test_pairs)"
   ]
  },
  {
   "cell_type": "code",
   "execution_count": 16,
   "metadata": {
    "collapsed": false
   },
   "outputs": [
    {
     "data": {
      "text/plain": [
       "44441"
      ]
     },
     "execution_count": 16,
     "metadata": {},
     "output_type": "execute_result"
    }
   ],
   "source": [
    "not_in_train_pairs = test_pairs-train_pairs\n",
    "len(not_in_train_pairs)"
   ]
  },
  {
   "cell_type": "code",
   "execution_count": 21,
   "metadata": {
    "collapsed": false
   },
   "outputs": [],
   "source": [
    "n_train = pd.DataFrame(list(not_in_train_pairs), columns = ['item_nbr', 'store_nbr'])\n",
    "n_train.to_csv('./data/n_train.csv', index=False)\n",
    "\n",
    "n_test = pd.DataFrame(list(not_in_test_pairs), columns = ['item_nbr', 'store_nbr'])\n",
    "n_test.to_csv('./data/n_test.csv', index=False)"
   ]
  },
  {
   "cell_type": "code",
   "execution_count": null,
   "metadata": {
    "collapsed": true
   },
   "outputs": [],
   "source": []
  }
 ],
 "metadata": {
  "kernelspec": {
   "display_name": "Python [py35]",
   "language": "python",
   "name": "Python [py35]"
  },
  "language_info": {
   "codemirror_mode": {
    "name": "ipython",
    "version": 3
   },
   "file_extension": ".py",
   "mimetype": "text/x-python",
   "name": "python",
   "nbconvert_exporter": "python",
   "pygments_lexer": "ipython3",
   "version": "3.5.2"
  }
 },
 "nbformat": 4,
 "nbformat_minor": 0
}
