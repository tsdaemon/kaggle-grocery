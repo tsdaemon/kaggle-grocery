{
 "cells": [
  {
   "cell_type": "code",
   "execution_count": 1,
   "metadata": {
    "collapsed": true
   },
   "outputs": [],
   "source": [
    "from mapreduce import *"
   ]
  },
  {
   "cell_type": "code",
   "execution_count": 6,
   "metadata": {
    "collapsed": true
   },
   "outputs": [],
   "source": [
    "class AllUniqueItemsStorePairs(MapReduceAbstract):\n",
    "    def map(self, df_batch):\n",
    "        pairs = df_batch.groupby(['item_nbr', 'store_nbr'], as_index=False).mean()[['item_nbr', 'store_nbr']]\n",
    "        return list(pairs.itertuples(index=False))\n",
    "\n",
    "    def reduce(self, ls, ls2):\n",
    "        return set(ls + list(ls2))\n",
    "\n",
    "    def filter(self, df_batch):\n",
    "        return df_batch"
   ]
  },
  {
   "cell_type": "code",
   "execution_count": 7,
   "metadata": {
    "collapsed": false
   },
   "outputs": [
    {
     "name": "stdout",
     "output_type": "stream",
     "text": [
      "Reading batch from position 0, batch size 10000000...\n",
      "Filtering 10000000...\n",
      "Filtered 10000000, mapping...\n",
      "Mapped, reducing...\n",
      "Batch done.\n",
      "Reading batch from position 10000000, batch size 10000000...\n",
      "Filtering 10000000...\n",
      "Filtered 10000000, mapping...\n",
      "Mapped, reducing...\n",
      "Batch done.\n",
      "Reading batch from position 20000000, batch size 10000000...\n",
      "Filtering 10000000...\n",
      "Filtered 10000000, mapping...\n",
      "Mapped, reducing...\n",
      "Batch done.\n",
      "Reading batch from position 30000000, batch size 10000000...\n",
      "Filtering 10000000...\n",
      "Filtered 10000000, mapping...\n",
      "Mapped, reducing...\n",
      "Batch done.\n",
      "Reading batch from position 40000000, batch size 10000000...\n",
      "Filtering 10000000...\n",
      "Filtered 10000000, mapping...\n",
      "Mapped, reducing...\n",
      "Batch done.\n",
      "Reading batch from position 50000000, batch size 10000000...\n",
      "Filtering 10000000...\n",
      "Filtered 10000000, mapping...\n",
      "Mapped, reducing...\n",
      "Batch done.\n",
      "Reading batch from position 60000000, batch size 10000000...\n",
      "Filtering 10000000...\n",
      "Filtered 10000000, mapping...\n",
      "Mapped, reducing...\n",
      "Batch done.\n",
      "Reading batch from position 70000000, batch size 10000000...\n",
      "Filtering 10000000...\n",
      "Filtered 10000000, mapping...\n",
      "Mapped, reducing...\n",
      "Batch done.\n",
      "Reading batch from position 80000000, batch size 10000000...\n",
      "Filtering 10000000...\n",
      "Filtered 10000000, mapping...\n",
      "Mapped, reducing...\n",
      "Batch done.\n",
      "Reading batch from position 90000000, batch size 10000000...\n",
      "Filtering 10000000...\n",
      "Filtered 10000000, mapping...\n",
      "Mapped, reducing...\n",
      "Batch done.\n",
      "Reading batch from position 100000000, batch size 10000000...\n",
      "Filtering 10000000...\n",
      "Filtered 10000000, mapping...\n",
      "Mapped, reducing...\n",
      "Batch done.\n",
      "Reading batch from position 110000000, batch size 10000000...\n",
      "Filtering 10000000...\n",
      "Filtered 10000000, mapping...\n",
      "Mapped, reducing...\n",
      "Batch done.\n",
      "Reading batch from position 120000000, batch size 10000000...\n",
      "Filtering 5497041...\n",
      "Filtered 5497041, mapping...\n",
      "Mapped, reducing...\n",
      "Batch done.\n",
      "End of dataset is found.\n"
     ]
    }
   ],
   "source": [
    "mapreduce = AllUniqueItemsStorePairs()\n",
    "types = {'id': 'int32',\n",
    "         'date': 'int16',\n",
    "         'item_nbr': 'int32',\n",
    "         'store_nbr': 'int16',\n",
    "         'unit_sales': 'float32',\n",
    "         'onpromotion': bool}\n",
    "\n",
    "train_pairs = map_reduce_df('./data/train_processed.csv', mapreduce, types=types, verbose=True, batch_size=10000000)"
   ]
  },
  {
   "cell_type": "code",
   "execution_count": 17,
   "metadata": {
    "collapsed": false
   },
   "outputs": [
    {
     "data": {
      "text/plain": [
       "174685"
      ]
     },
     "execution_count": 17,
     "metadata": {},
     "output_type": "execute_result"
    }
   ],
   "source": [
    "len(train_pairs)"
   ]
  },
  {
   "cell_type": "code",
   "execution_count": 18,
   "metadata": {
    "collapsed": false
   },
   "outputs": [
    {
     "data": {
      "text/plain": [
       "210654"
      ]
     },
     "execution_count": 18,
     "metadata": {},
     "output_type": "execute_result"
    }
   ],
   "source": [
    "test = pd.read_csv('./data/test.csv')\n",
    "test_pairs = set(test.groupby(['item_nbr', 'store_nbr'], as_index=False).mean()[['item_nbr', 'store_nbr']].itertuples(index=False))\n",
    "len(test_pairs)"
   ]
  },
  {
   "cell_type": "code",
   "execution_count": 15,
   "metadata": {
    "collapsed": false
   },
   "outputs": [
    {
     "data": {
      "text/plain": [
       "8472"
      ]
     },
     "execution_count": 15,
     "metadata": {},
     "output_type": "execute_result"
    }
   ],
   "source": [
    "not_in_test_pairs = train_pairs-test_pairs\n",
    "len(not_in_test_pairs)"
   ]
  },
  {
   "cell_type": "code",
   "execution_count": 16,
   "metadata": {
    "collapsed": false
   },
   "outputs": [
    {
     "data": {
      "text/plain": [
       "44441"
      ]
     },
     "execution_count": 16,
     "metadata": {},
     "output_type": "execute_result"
    }
   ],
   "source": [
    "not_in_train_pairs = test_pairs-train_pairs\n",
    "len(not_in_train_pairs)"
   ]
  },
  {
   "cell_type": "code",
   "execution_count": 21,
   "metadata": {
    "collapsed": false
   },
   "outputs": [],
   "source": [
    "n_train = pd.DataFrame(list(not_in_train_pairs), columns = ['item_nbr', 'store_nbr'])\n",
    "n_train.to_csv('./data/n_train.csv', index=False)\n",
    "\n",
    "n_test = pd.DataFrame(list(not_in_test_pairs), columns = ['item_nbr', 'store_nbr'])\n",
    "n_test.to_csv('./data/n_test.csv', index=False)"
   ]
  },
  {
   "cell_type": "markdown",
   "metadata": {
    "collapsed": true
   },
   "source": [
    "---"
   ]
  },
  {
   "cell_type": "code",
   "execution_count": 1,
   "metadata": {
    "collapsed": true
   },
   "outputs": [],
   "source": [
    "import pandas as pd"
   ]
  },
  {
   "cell_type": "code",
   "execution_count": 3,
   "metadata": {
    "collapsed": false
   },
   "outputs": [],
   "source": [
    "n_train = pd.read_csv('../data/n_train.csv')\n",
    "test = pd.read_csv('../data/test.csv')\n",
    "n_train_test = test.merge(n_train, on=['item_nbr', 'store_nbr'])"
   ]
  },
  {
   "cell_type": "code",
   "execution_count": 6,
   "metadata": {
    "collapsed": false
   },
   "outputs": [
    {
     "data": {
      "text/plain": [
       "0.21096679863662687"
      ]
     },
     "execution_count": 6,
     "metadata": {},
     "output_type": "execute_result"
    }
   ],
   "source": [
    "len(n_train_test)/len(test)"
   ]
  },
  {
   "cell_type": "code",
   "execution_count": 7,
   "metadata": {
    "collapsed": false
   },
   "outputs": [
    {
     "data": {
      "text/html": [
       "<div>\n",
       "<table border=\"1\" class=\"dataframe\">\n",
       "  <thead>\n",
       "    <tr style=\"text-align: right;\">\n",
       "      <th></th>\n",
       "      <th>id</th>\n",
       "      <th>date</th>\n",
       "      <th>store_nbr</th>\n",
       "      <th>item_nbr</th>\n",
       "      <th>onpromotion</th>\n",
       "    </tr>\n",
       "  </thead>\n",
       "  <tbody>\n",
       "    <tr>\n",
       "      <th>0</th>\n",
       "      <td>125497040</td>\n",
       "      <td>2017-08-16</td>\n",
       "      <td>1</td>\n",
       "      <td>96995</td>\n",
       "      <td>False</td>\n",
       "    </tr>\n",
       "    <tr>\n",
       "      <th>1</th>\n",
       "      <td>125497041</td>\n",
       "      <td>2017-08-16</td>\n",
       "      <td>1</td>\n",
       "      <td>99197</td>\n",
       "      <td>False</td>\n",
       "    </tr>\n",
       "    <tr>\n",
       "      <th>2</th>\n",
       "      <td>125497042</td>\n",
       "      <td>2017-08-16</td>\n",
       "      <td>1</td>\n",
       "      <td>103501</td>\n",
       "      <td>False</td>\n",
       "    </tr>\n",
       "    <tr>\n",
       "      <th>3</th>\n",
       "      <td>125497043</td>\n",
       "      <td>2017-08-16</td>\n",
       "      <td>1</td>\n",
       "      <td>103520</td>\n",
       "      <td>False</td>\n",
       "    </tr>\n",
       "    <tr>\n",
       "      <th>4</th>\n",
       "      <td>125497044</td>\n",
       "      <td>2017-08-16</td>\n",
       "      <td>1</td>\n",
       "      <td>103665</td>\n",
       "      <td>False</td>\n",
       "    </tr>\n",
       "  </tbody>\n",
       "</table>\n",
       "</div>"
      ],
      "text/plain": [
       "          id        date  store_nbr  item_nbr onpromotion\n",
       "0  125497040  2017-08-16          1     96995       False\n",
       "1  125497041  2017-08-16          1     99197       False\n",
       "2  125497042  2017-08-16          1    103501       False\n",
       "3  125497043  2017-08-16          1    103520       False\n",
       "4  125497044  2017-08-16          1    103665       False"
      ]
     },
     "execution_count": 7,
     "metadata": {},
     "output_type": "execute_result"
    }
   ],
   "source": [
    "test.head()"
   ]
  },
  {
   "cell_type": "code",
   "execution_count": 9,
   "metadata": {
    "collapsed": false
   },
   "outputs": [
    {
     "data": {
      "text/html": [
       "<div>\n",
       "<table border=\"1\" class=\"dataframe\">\n",
       "  <thead>\n",
       "    <tr style=\"text-align: right;\">\n",
       "      <th></th>\n",
       "      <th>id</th>\n",
       "      <th>date</th>\n",
       "      <th>store_nbr</th>\n",
       "      <th>item_nbr</th>\n",
       "      <th>onpromotion</th>\n",
       "    </tr>\n",
       "  </thead>\n",
       "  <tbody>\n",
       "    <tr>\n",
       "      <th>0</th>\n",
       "      <td>125497042</td>\n",
       "      <td>2017-08-16</td>\n",
       "      <td>1</td>\n",
       "      <td>103501</td>\n",
       "      <td>False</td>\n",
       "    </tr>\n",
       "    <tr>\n",
       "      <th>16</th>\n",
       "      <td>125497047</td>\n",
       "      <td>2017-08-16</td>\n",
       "      <td>1</td>\n",
       "      <td>105576</td>\n",
       "      <td>False</td>\n",
       "    </tr>\n",
       "    <tr>\n",
       "      <th>32</th>\n",
       "      <td>125497061</td>\n",
       "      <td>2017-08-16</td>\n",
       "      <td>1</td>\n",
       "      <td>108833</td>\n",
       "      <td>False</td>\n",
       "    </tr>\n",
       "    <tr>\n",
       "      <th>48</th>\n",
       "      <td>125497091</td>\n",
       "      <td>2017-08-16</td>\n",
       "      <td>1</td>\n",
       "      <td>119193</td>\n",
       "      <td>False</td>\n",
       "    </tr>\n",
       "    <tr>\n",
       "      <th>64</th>\n",
       "      <td>125497108</td>\n",
       "      <td>2017-08-16</td>\n",
       "      <td>1</td>\n",
       "      <td>129759</td>\n",
       "      <td>False</td>\n",
       "    </tr>\n",
       "  </tbody>\n",
       "</table>\n",
       "</div>"
      ],
      "text/plain": [
       "           id        date  store_nbr  item_nbr onpromotion\n",
       "0   125497042  2017-08-16          1    103501       False\n",
       "16  125497047  2017-08-16          1    105576       False\n",
       "32  125497061  2017-08-16          1    108833       False\n",
       "48  125497091  2017-08-16          1    119193       False\n",
       "64  125497108  2017-08-16          1    129759       False"
      ]
     },
     "execution_count": 9,
     "metadata": {},
     "output_type": "execute_result"
    }
   ],
   "source": [
    "n_train_test = n_train_test.sort_values(by=['id'])\n",
    "n_train_test.head()"
   ]
  },
  {
   "cell_type": "code",
   "execution_count": null,
   "metadata": {
    "collapsed": true
   },
   "outputs": [],
   "source": []
  }
 ],
 "metadata": {
  "anaconda-cloud": {},
  "kernelspec": {
   "display_name": "Python [py35]",
   "language": "python",
   "name": "Python [py35]"
  },
  "language_info": {
   "codemirror_mode": {
    "name": "ipython",
    "version": 3
   },
   "file_extension": ".py",
   "mimetype": "text/x-python",
   "name": "python",
   "nbconvert_exporter": "python",
   "pygments_lexer": "ipython3",
   "version": "3.5.2"
  }
 },
 "nbformat": 4,
 "nbformat_minor": 0
}
