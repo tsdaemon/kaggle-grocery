{
 "cells": [
  {
   "cell_type": "code",
   "execution_count": 16,
   "metadata": {
    "collapsed": true
   },
   "outputs": [],
   "source": [
    "import pandas as pd\n",
    "import sys\n",
    "sys.path.append(\"../\")\n",
    "from importlib import reload\n",
    "import model\n",
    "reload(model)\n",
    "from model import *\n",
    "from date import *"
   ]
  },
  {
   "cell_type": "code",
   "execution_count": 40,
   "metadata": {
    "collapsed": false
   },
   "outputs": [
    {
     "data": {
      "text/plain": [
       "1554"
      ]
     },
     "execution_count": 40,
     "metadata": {},
     "output_type": "execute_result"
    }
   ],
   "source": [
    "end = get_date_index_parse('2017-08-15')\n",
    "num = 8\n",
    "ranges = []\n",
    "for i in range(num):\n",
    "    week2end = end\n",
    "    week2start = end-13\n",
    "    week1end = end-14\n",
    "    week1start = end-35\n",
    "    ranges.append((list(range(week2start, week2end+1)), list(range(week1start, week1end+1))))\n",
    "    end -= 14\n",
    "week1start"
   ]
  },
  {
   "cell_type": "code",
   "execution_count": 27,
   "metadata": {
    "collapsed": false
   },
   "outputs": [
    {
     "data": {
      "text/plain": [
       "datetime.datetime(2017, 4, 4, 0, 0)"
      ]
     },
     "execution_count": 27,
     "metadata": {},
     "output_type": "execute_result"
    }
   ],
   "source": [
    "get_index_date(week1start)"
   ]
  },
  {
   "cell_type": "code",
   "execution_count": 28,
   "metadata": {
    "collapsed": false
   },
   "outputs": [
    {
     "name": "stdout",
     "output_type": "stream",
     "text": [
      "Reading batch from position 110000000, batch size 10000000...\n",
      "Filtering 10000000...\n",
      "Filtered 8659998, mapping...\n",
      "Mapped, reducing...\n",
      "Batch done.\n",
      "================================================================================\n",
      "Reading batch from position 120000000, batch size 10000000...\n",
      "Filtering 5497041...\n",
      "Filtered 5497041, mapping...\n",
      "Mapped, reducing...\n",
      "Batch done.\n",
      "End of dataset is found.\n"
     ]
    }
   ],
   "source": [
    "df = load_data_in_date_range('./../data/train_processed.csv', '2017-04-04', '2017-08-15', 110000000)"
   ]
  },
  {
   "cell_type": "code",
   "execution_count": 29,
   "metadata": {
    "collapsed": false
   },
   "outputs": [],
   "source": [
    "df = convert_unit_sales(df)"
   ]
  },
  {
   "cell_type": "code",
   "execution_count": 30,
   "metadata": {
    "collapsed": true
   },
   "outputs": [],
   "source": [
    "df = fill_empty_sales(df)"
   ]
  },
  {
   "cell_type": "code",
   "execution_count": 31,
   "metadata": {
    "collapsed": false
   },
   "outputs": [
    {
     "data": {
      "text/html": [
       "<div>\n",
       "<table border=\"1\" class=\"dataframe\">\n",
       "  <thead>\n",
       "    <tr style=\"text-align: right;\">\n",
       "      <th></th>\n",
       "      <th>date</th>\n",
       "      <th>store_nbr</th>\n",
       "      <th>item_nbr</th>\n",
       "      <th>id</th>\n",
       "      <th>unit_sales</th>\n",
       "      <th>onpromotion</th>\n",
       "    </tr>\n",
       "  </thead>\n",
       "  <tbody>\n",
       "    <tr>\n",
       "      <th>0</th>\n",
       "      <td>1635</td>\n",
       "      <td>46</td>\n",
       "      <td>1695836</td>\n",
       "      <td>119999999.0</td>\n",
       "      <td>2.735787</td>\n",
       "      <td>False</td>\n",
       "    </tr>\n",
       "    <tr>\n",
       "      <th>1</th>\n",
       "      <td>1635</td>\n",
       "      <td>46</td>\n",
       "      <td>1695837</td>\n",
       "      <td>120000000.0</td>\n",
       "      <td>2.493980</td>\n",
       "      <td>False</td>\n",
       "    </tr>\n",
       "    <tr>\n",
       "      <th>2</th>\n",
       "      <td>1635</td>\n",
       "      <td>46</td>\n",
       "      <td>1695840</td>\n",
       "      <td>120000001.0</td>\n",
       "      <td>1.609438</td>\n",
       "      <td>False</td>\n",
       "    </tr>\n",
       "    <tr>\n",
       "      <th>3</th>\n",
       "      <td>1635</td>\n",
       "      <td>46</td>\n",
       "      <td>1695845</td>\n",
       "      <td>120000002.0</td>\n",
       "      <td>3.806663</td>\n",
       "      <td>False</td>\n",
       "    </tr>\n",
       "    <tr>\n",
       "      <th>4</th>\n",
       "      <td>1635</td>\n",
       "      <td>46</td>\n",
       "      <td>1695846</td>\n",
       "      <td>120000003.0</td>\n",
       "      <td>1.469188</td>\n",
       "      <td>False</td>\n",
       "    </tr>\n",
       "  </tbody>\n",
       "</table>\n",
       "</div>"
      ],
      "text/plain": [
       "   date  store_nbr  item_nbr           id  unit_sales onpromotion\n",
       "0  1635         46   1695836  119999999.0    2.735787       False\n",
       "1  1635         46   1695837  120000000.0    2.493980       False\n",
       "2  1635         46   1695840  120000001.0    1.609438       False\n",
       "3  1635         46   1695845  120000002.0    3.806663       False\n",
       "4  1635         46   1695846  120000003.0    1.469188       False"
      ]
     },
     "execution_count": 31,
     "metadata": {},
     "output_type": "execute_result"
    }
   ],
   "source": [
    "df.head()"
   ]
  },
  {
   "cell_type": "code",
   "execution_count": null,
   "metadata": {
    "collapsed": false
   },
   "outputs": [],
   "source": [
    "def fill_two_weeks(df, df_prev):\n",
    "    mean_agg = df_prev.groupby(['item_nbr', 'store_nbr', 'onpromotion'], as_index=False).agg({'unit_sales':'mean'})\n",
    "    mean_agg.rename(columns={'unit_sales':'unit_sales_mean'}, inplace=True)\n",
    "    df = df.merge(mean_agg, on=['item_nbr','store_nbr', 'onpromotion'], how='left')\n",
    "    \n",
    "    df_prev.date = df_prev.date + 14\n",
    "    df_prev['unit_sales_prev14'] = df_prev['unit_sales']\n",
    "    df = df.merge(df_prev[['item_nbr','store_nbr', 'date', 'unit_sales_prev14']], on=['item_nbr','store_nbr', 'date'], how='left')\n",
    "    \n",
    "    df_prev.date = df_prev.date + 1\n",
    "    df_prev['unit_sales_prev15'] = df_prev['unit_sales']\n",
    "    df = df.merge(df_prev[['item_nbr','store_nbr', 'date', 'unit_sales_prev15']], on=['item_nbr','store_nbr', 'date'], how='left')\n",
    "    \n",
    "    df_prev.date = df_prev.date + 1\n",
    "    df_prev['unit_sales_prev16'] = df_prev['unit_sales']\n",
    "    df = df.merge(df_prev[['item_nbr','store_nbr', 'date', 'unit_sales_prev16']], on=['item_nbr','store_nbr', 'date'], how='left')\n",
    "    \n",
    "    df_prev.date = df_prev.date + 1\n",
    "    df_prev['unit_sales_prev17'] = df_prev['unit_sales']\n",
    "    df = df.merge(df_prev[['item_nbr','store_nbr', 'date', 'unit_sales_prev17']], on=['item_nbr','store_nbr', 'date'], how='left')\n",
    "    \n",
    "    df_prev.date = df_prev.date + 1\n",
    "    df_prev['unit_sales_prev18'] = df_prev['unit_sales']\n",
    "    df = df.merge(df_prev[['item_nbr','store_nbr', 'date', 'unit_sales_prev18']], on=['item_nbr','store_nbr', 'date'], how='left')\n",
    "    \n",
    "    df_prev.date = df_prev.date - 5\n",
    "    df_prev['unit_sales_prev13'] = df_prev['unit_sales']\n",
    "    df = df.merge(df_prev[['item_nbr','store_nbr', 'date', 'unit_sales_prev13']], on=['item_nbr','store_nbr', 'date'], how='left')\n",
    "    \n",
    "    df_prev.date = df_prev.date - 1\n",
    "    df_prev['unit_sales_prev12'] = df_prev['unit_sales']\n",
    "    df = df.merge(df_prev[['item_nbr','store_nbr', 'date', 'unit_sales_prev12']], on=['item_nbr','store_nbr', 'date'], how='left')\n",
    "    \n",
    "    df.fillna(0.0, inplace=True)\n",
    "    return df\n",
    "\n",
    "result = []\n",
    "for week2, week1 in reversed(ranges):\n",
    "    week2df = df[df.date.isin(week2)]\n",
    "    week1df = df[df.date.isin(week1)]\n",
    "    week2df = fill_two_weeks(week2df, week1df)\n",
    "    result.append(week2df)"
   ]
  },
  {
   "cell_type": "code",
   "execution_count": null,
   "metadata": {
    "collapsed": false
   },
   "outputs": [],
   "source": [
    "result[0].head(20)"
   ]
  },
  {
   "cell_type": "code",
   "execution_count": 43,
   "metadata": {
    "collapsed": false
   },
   "outputs": [],
   "source": [
    "new_df = pd.concat(result)"
   ]
  },
  {
   "cell_type": "code",
   "execution_count": 44,
   "metadata": {
    "collapsed": false
   },
   "outputs": [
    {
     "data": {
      "text/plain": [
       "1576"
      ]
     },
     "execution_count": 44,
     "metadata": {},
     "output_type": "execute_result"
    }
   ],
   "source": [
    "new_df['date'].min()"
   ]
  },
  {
   "cell_type": "code",
   "execution_count": 45,
   "metadata": {
    "collapsed": false
   },
   "outputs": [
    {
     "data": {
      "text/plain": [
       "1687"
      ]
     },
     "execution_count": 45,
     "metadata": {},
     "output_type": "execute_result"
    }
   ],
   "source": [
    "new_df['date'].max()"
   ]
  },
  {
   "cell_type": "code",
   "execution_count": 46,
   "metadata": {
    "collapsed": false
   },
   "outputs": [
    {
     "data": {
      "text/plain": [
       "datetime.datetime(2017, 8, 15, 0, 0)"
      ]
     },
     "execution_count": 46,
     "metadata": {},
     "output_type": "execute_result"
    }
   ],
   "source": [
    "get_index_date(new_df['date'].max())"
   ]
  },
  {
   "cell_type": "code",
   "execution_count": null,
   "metadata": {
    "collapsed": true
   },
   "outputs": [],
   "source": [
    "new_df.to_csv('./../data/train_lagged.csv', index=False)"
   ]
  },
  {
   "cell_type": "code",
   "execution_count": null,
   "metadata": {
    "collapsed": true
   },
   "outputs": [],
   "source": [
    "!telegram-send \"train lagged done.\""
   ]
  },
  {
   "cell_type": "code",
   "execution_count": null,
   "metadata": {
    "collapsed": true
   },
   "outputs": [],
   "source": []
  }
 ],
 "metadata": {
  "kernelspec": {
   "display_name": "Python [py35]",
   "language": "python",
   "name": "Python [py35]"
  },
  "language_info": {
   "codemirror_mode": {
    "name": "ipython",
    "version": 3
   },
   "file_extension": ".py",
   "mimetype": "text/x-python",
   "name": "python",
   "nbconvert_exporter": "python",
   "pygments_lexer": "ipython3",
   "version": "3.5.2"
  }
 },
 "nbformat": 4,
 "nbformat_minor": 0
}
