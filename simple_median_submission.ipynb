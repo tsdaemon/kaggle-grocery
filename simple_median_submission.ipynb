{
 "cells": [
  {
   "cell_type": "code",
   "execution_count": 1,
   "metadata": {
    "collapsed": false
   },
   "outputs": [],
   "source": [
    "from importlib import reload\n",
    "import mapreduce\n",
    "reload(mapreduce)\n",
    "from mapreduce import FilteringMapReduce, map_reduce_df\n",
    "import pandas as pd\n",
    "import utils\n",
    "reload(utils)\n",
    "from utils import get_date_index, get_days_in_range"
   ]
  },
  {
   "cell_type": "code",
   "execution_count": 2,
   "metadata": {
    "collapsed": false
   },
   "outputs": [],
   "source": [
    "# fill with median from previous two weeks\n",
    "days = get_days_in_range('2017-06-16', '2017-08-15')"
   ]
  },
  {
   "cell_type": "code",
   "execution_count": 3,
   "metadata": {
    "collapsed": false
   },
   "outputs": [
    {
     "name": "stdout",
     "output_type": "stream",
     "text": [
      "Reading from position 110000000, batch size 10000000...\n",
      "Filtering 10000000...\n",
      "Filtered 930790, mapping...\n",
      "Mapped, reducing...\n",
      "Done.\n",
      "Reading from position 120000000, batch size 10000000...\n",
      "Filtering 5497041...\n",
      "Filtered 5497041, mapping...\n",
      "Mapped, reducing...\n",
      "Done.\n",
      "End of dataset is found.\n"
     ]
    }
   ],
   "source": [
    "cols = ['id', 'date', 'store_nbr', 'item_nbr', 'unit_sales', 'onpromotion']\n",
    "types = {'id': 'int32',\n",
    "         'date': 'int16',\n",
    "         'item_nbr': 'int32',\n",
    "         'store_nbr': 'int16',\n",
    "         'unit_sales': 'float32',\n",
    "         'onpromotion': bool}\n",
    "mapreduce = FilteringMapReduce(lambda df: df[df.date.isin(days)], cols, types)\n",
    "train = map_reduce_df('./data/train_processed.csv', mapreduce, types=types, position=110000000, cols=cols, verbose=True)"
   ]
  },
  {
   "cell_type": "code",
   "execution_count": 4,
   "metadata": {
    "collapsed": false
   },
   "outputs": [
    {
     "data": {
      "text/html": [
       "<div>\n",
       "<table border=\"1\" class=\"dataframe\">\n",
       "  <thead>\n",
       "    <tr style=\"text-align: right;\">\n",
       "      <th></th>\n",
       "      <th></th>\n",
       "      <th></th>\n",
       "      <th>id</th>\n",
       "      <th>unit_sales</th>\n",
       "      <th>onpromotion</th>\n",
       "    </tr>\n",
       "    <tr>\n",
       "      <th>date</th>\n",
       "      <th>store_nbr</th>\n",
       "      <th>item_nbr</th>\n",
       "      <th></th>\n",
       "      <th></th>\n",
       "      <th></th>\n",
       "    </tr>\n",
       "  </thead>\n",
       "  <tbody>\n",
       "    <tr>\n",
       "      <th rowspan=\"5\" valign=\"top\">1635.0</th>\n",
       "      <th rowspan=\"5\" valign=\"top\">46.0</th>\n",
       "      <th>1695836.0</th>\n",
       "      <td>119999999.0</td>\n",
       "      <td>14.421875</td>\n",
       "      <td>False</td>\n",
       "    </tr>\n",
       "    <tr>\n",
       "      <th>1695837.0</th>\n",
       "      <td>120000000.0</td>\n",
       "      <td>11.109375</td>\n",
       "      <td>False</td>\n",
       "    </tr>\n",
       "    <tr>\n",
       "      <th>1695840.0</th>\n",
       "      <td>120000001.0</td>\n",
       "      <td>4.000000</td>\n",
       "      <td>False</td>\n",
       "    </tr>\n",
       "    <tr>\n",
       "      <th>1695845.0</th>\n",
       "      <td>120000002.0</td>\n",
       "      <td>44.000000</td>\n",
       "      <td>False</td>\n",
       "    </tr>\n",
       "    <tr>\n",
       "      <th>1695846.0</th>\n",
       "      <td>120000003.0</td>\n",
       "      <td>3.345703</td>\n",
       "      <td>False</td>\n",
       "    </tr>\n",
       "  </tbody>\n",
       "</table>\n",
       "</div>"
      ],
      "text/plain": [
       "                                     id  unit_sales onpromotion\n",
       "date   store_nbr item_nbr                                      \n",
       "1635.0 46.0      1695836.0  119999999.0   14.421875       False\n",
       "                 1695837.0  120000000.0   11.109375       False\n",
       "                 1695840.0  120000001.0    4.000000       False\n",
       "                 1695845.0  120000002.0   44.000000       False\n",
       "                 1695846.0  120000003.0    3.345703       False"
      ]
     },
     "execution_count": 4,
     "metadata": {},
     "output_type": "execute_result"
    }
   ],
   "source": [
    "train.ix[train.unit_sales < 0, 'unit_sales'] = 0\n",
    "u_dates = train.date.unique()\n",
    "u_stores = train.store_nbr.unique()\n",
    "u_items = train.item_nbr.unique()\n",
    "train.set_index([\"date\", \"store_nbr\", \"item_nbr\"], inplace=True)\n",
    "train = train.reindex(\n",
    "    pd.MultiIndex.from_product(\n",
    "        (u_dates, u_stores, u_items),\n",
    "        names=[\"date\", \"store_nbr\", \"item_nbr\"]\n",
    "    )\n",
    ")\n",
    "train.loc[:, \"unit_sales\"].fillna(0, inplace=True)\n",
    "# Assume missing entris imply no promotion\n",
    "train.loc[:, \"onpromotion\"].fillna(\"False\", inplace=True)\n",
    "train.head()"
   ]
  },
  {
   "cell_type": "code",
   "execution_count": 6,
   "metadata": {
    "collapsed": true
   },
   "outputs": [],
   "source": [
    "train.reset_index(inplace=True)"
   ]
  },
  {
   "cell_type": "code",
   "execution_count": 7,
   "metadata": {
    "collapsed": false
   },
   "outputs": [],
   "source": [
    "days_train1 = get_days_in_range('2017-06-16', '2017-06-30')\n",
    "days_train2 = get_days_in_range('2017-07-01', '2017-07-15')\n",
    "days_train3 = get_days_in_range('2017-07-16', '2017-07-31')\n",
    "days_test = get_days_in_range('2017-08-01', '2017-08-15')\n",
    "\n",
    "medians_train1 = train[train.date.isin(days_train1)]\n",
    "medians_train2 = train[train.date.isin(days_train2)]\n",
    "medians_train3 = train[train.date.isin(days_train3)]\n",
    "medians_test = train[train.date.isin(days_test)]\n",
    "del train"
   ]
  },
  {
   "cell_type": "code",
   "execution_count": 8,
   "metadata": {
    "collapsed": false
   },
   "outputs": [
    {
     "data": {
      "text/plain": [
       "0.62636099248854926"
      ]
     },
     "execution_count": 8,
     "metadata": {},
     "output_type": "execute_result"
    }
   ],
   "source": [
    "import metric\n",
    "reload(metric)\n",
    "from metric import NWRMSLE, get_weights\n",
    "import numpy as np\n",
    "\n",
    "def ev(train, test):\n",
    "    median = train.groupby(by=['item_nbr','store_nbr'], as_index=False).agg({'unit_sales':'median'})\n",
    "    median['unit_sales_median'] = median['unit_sales']\n",
    "    del median['unit_sales']\n",
    "    test = test.merge(median, on=['item_nbr','store_nbr'], how='left')\n",
    "    test.fillna(0.0, inplace=True)\n",
    "    y_true = test['unit_sales']\n",
    "    y_pred = test['unit_sales_median']\n",
    "    weights = get_weights(test['item_nbr'])\n",
    "    error = NWRMSLE(y_true, y_pred, weights)\n",
    "    return error\n",
    "\n",
    "errors = []\n",
    "errors.append(ev(medians_train1, medians_train2))\n",
    "errors.append(ev(medians_train2, medians_train3))\n",
    "errors.append(ev(medians_train3, medians_test))\n",
    "np.mean(errors)"
   ]
  },
  {
   "cell_type": "code",
   "execution_count": 9,
   "metadata": {
    "collapsed": false
   },
   "outputs": [
    {
     "data": {
      "text/plain": [
       "[0.6302102004724058, 0.626762948794633, 0.6221098281986088]"
      ]
     },
     "execution_count": 9,
     "metadata": {},
     "output_type": "execute_result"
    }
   ],
   "source": [
    "errors"
   ]
  },
  {
   "cell_type": "code",
   "execution_count": 10,
   "metadata": {
    "collapsed": false
   },
   "outputs": [],
   "source": [
    "test = pd.read_csv('./data/test.csv')\n",
    "median = medians_test.groupby(by=['item_nbr','store_nbr'], as_index=False).agg({'unit_sales':'median'})\n",
    "median['unit_sales_median'] = median['unit_sales']\n",
    "del median['unit_sales']\n",
    "test = test.merge(median, on=['item_nbr','store_nbr'], how='left')\n",
    "test.fillna(0.0, inplace=True)\n",
    "test['unit_sales'] = test['unit_sales_median']\n",
    "del test['unit_sales_median']"
   ]
  },
  {
   "cell_type": "code",
   "execution_count": 11,
   "metadata": {
    "collapsed": false
   },
   "outputs": [],
   "source": [
    "test.ix[test.unit_sales < 0, 'unit_sales'] = 0"
   ]
  },
  {
   "cell_type": "code",
   "execution_count": 12,
   "metadata": {
    "collapsed": true
   },
   "outputs": [],
   "source": [
    "# 0.59\n",
    "test[['id', 'unit_sales']].to_csv('./submissions/previous_week_median_0.62.csv', index=False)"
   ]
  },
  {
   "cell_type": "code",
   "execution_count": null,
   "metadata": {
    "collapsed": true
   },
   "outputs": [],
   "source": []
  }
 ],
 "metadata": {
  "anaconda-cloud": {},
  "kernelspec": {
   "display_name": "Python [py35]",
   "language": "python",
   "name": "Python [py35]"
  },
  "language_info": {
   "codemirror_mode": {
    "name": "ipython",
    "version": 3
   },
   "file_extension": ".py",
   "mimetype": "text/x-python",
   "name": "python",
   "nbconvert_exporter": "python",
   "pygments_lexer": "ipython3",
   "version": "3.5.2"
  }
 },
 "nbformat": 4,
 "nbformat_minor": 0
}
