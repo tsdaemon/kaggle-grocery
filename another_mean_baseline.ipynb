{
 "cells": [
  {
   "cell_type": "code",
   "execution_count": 1,
   "metadata": {
    "collapsed": true
   },
   "outputs": [],
   "source": [
    "from importlib import reload\n",
    "import itertools\n",
    "import pandas as pd\n",
    "import utils \n",
    "reload(utils)\n",
    "from utils import *\n",
    "import numpy as np\n",
    "from mapreduce import FilteringMapReduce, map_reduce_df"
   ]
  },
  {
   "cell_type": "code",
   "execution_count": 2,
   "metadata": {
    "collapsed": true
   },
   "outputs": [],
   "source": [
    "# https://www.kaggle.com/ceshine/mean-baseline-lb-59/code\n",
    "types = {'id': 'int32',\n",
    "         'date': 'int16',\n",
    "         'item_nbr': 'int32',\n",
    "         'store_nbr': 'int16',\n",
    "         'unit_sales': 'float32',\n",
    "         'onpromotion': bool}\n",
    "days = get_days_in_range('2017-08-01', '2017-08-15')\n",
    "cols = ['id', 'date', 'store_nbr', 'item_nbr', 'unit_sales', 'onpromotion']\n",
    "mapreduce = FilteringMapReduce(lambda df: df[df.date.isin(days)])"
   ]
  },
  {
   "cell_type": "code",
   "execution_count": 3,
   "metadata": {
    "collapsed": false
   },
   "outputs": [
    {
     "name": "stdout",
     "output_type": "stream",
     "text": [
      "Reading batch from position 120000000, batch size 10000000...\n",
      "Filtering 5497041...\n",
      "Filtered 1570968, mapping...\n",
      "Mapped, reducing...\n",
      "Batch done.\n",
      "End of dataset is found.\n"
     ]
    }
   ],
   "source": [
    "df_train = map_reduce_df('./data/train_processed.csv', mapreduce, types=types, position=120000000, cols=cols, verbose=True)\n",
    "\n",
    "# df_train = pd.read_csv(\n",
    "#     './data/train_processed.csv', usecols=[1, 2, 3, 4, 5], dtype=types,\n",
    "#     converters={'unit_sales': lambda u: float(u) if float(u) > 0 else 0},\n",
    "#     skiprows=range(1, 124035460)\n",
    "# )"
   ]
  },
  {
   "cell_type": "code",
   "execution_count": 4,
   "metadata": {
    "collapsed": false
   },
   "outputs": [],
   "source": [
    "df_train.ix[df_train.unit_sales < 0, \"unit_sales\"] = 0\n",
    "df_train[\"unit_sales\"] = np.log1p(df_train[\"unit_sales\"])"
   ]
  },
  {
   "cell_type": "code",
   "execution_count": 5,
   "metadata": {
    "collapsed": true
   },
   "outputs": [],
   "source": [
    "u_dates = df_train.date.unique()\n",
    "u_stores = df_train.store_nbr.unique()\n",
    "u_items = df_train.item_nbr.unique()\n",
    "df_train.set_index([\"date\", \"store_nbr\", \"item_nbr\"], inplace=True)\n",
    "df_train = df_train.reindex(\n",
    "    pd.MultiIndex.from_product(\n",
    "        (u_dates, u_stores, u_items),\n",
    "        names=[\"date\", \"store_nbr\", \"item_nbr\"]\n",
    "    )\n",
    ")\n",
    "# Fill NAs\n",
    "df_train.loc[:, \"unit_sales\"].fillna(0, inplace=True)\n",
    "# Assume missing entris imply no promotion\n",
    "df_train.loc[:, \"onpromotion\"].fillna(False, inplace=True)"
   ]
  },
  {
   "cell_type": "code",
   "execution_count": 45,
   "metadata": {
    "collapsed": false
   },
   "outputs": [
    {
     "data": {
      "text/html": [
       "<div>\n",
       "<table border=\"1\" class=\"dataframe\">\n",
       "  <thead>\n",
       "    <tr style=\"text-align: right;\">\n",
       "      <th></th>\n",
       "      <th>id</th>\n",
       "      <th>unit_sales</th>\n",
       "    </tr>\n",
       "  </thead>\n",
       "  <tbody>\n",
       "    <tr>\n",
       "      <th>32</th>\n",
       "      <td>125497042</td>\n",
       "      <td>0.900737</td>\n",
       "    </tr>\n",
       "    <tr>\n",
       "      <th>33</th>\n",
       "      <td>125707696</td>\n",
       "      <td>0.900737</td>\n",
       "    </tr>\n",
       "    <tr>\n",
       "      <th>34</th>\n",
       "      <td>125918350</td>\n",
       "      <td>0.900737</td>\n",
       "    </tr>\n",
       "    <tr>\n",
       "      <th>35</th>\n",
       "      <td>126129004</td>\n",
       "      <td>0.900737</td>\n",
       "    </tr>\n",
       "    <tr>\n",
       "      <th>36</th>\n",
       "      <td>126339658</td>\n",
       "      <td>0.900737</td>\n",
       "    </tr>\n",
       "  </tbody>\n",
       "</table>\n",
       "</div>"
      ],
      "text/plain": [
       "           id  unit_sales\n",
       "32  125497042    0.900737\n",
       "33  125707696    0.900737\n",
       "34  125918350    0.900737\n",
       "35  126129004    0.900737\n",
       "36  126339658    0.900737"
      ]
     },
     "execution_count": 45,
     "metadata": {},
     "output_type": "execute_result"
    }
   ],
   "source": [
    "test.head()"
   ]
  },
  {
   "cell_type": "code",
   "execution_count": 6,
   "metadata": {
    "collapsed": false
   },
   "outputs": [],
   "source": [
    "df_train.reset_index(inplace=True)\n",
    "df_train = df_train.groupby(['item_nbr', 'store_nbr', 'onpromotion'])['unit_sales'].mean().to_frame('unit_sales')\n",
    "df_train.head()"
   ]
  },
  {
   "cell_type": "code",
   "execution_count": 10,
   "metadata": {
    "collapsed": true
   },
   "outputs": [],
   "source": [
    "!telegram-send \"Preparations finished\""
   ]
  },
  {
   "cell_type": "code",
   "execution_count": 11,
   "metadata": {
    "collapsed": false
   },
   "outputs": [],
   "source": [
    "test = pd.read_csv(\"./data/test.csv\").set_index(['item_nbr', 'store_nbr', 'onpromotion']).join(df_train, how='left').fillna(0.0).reset_index()"
   ]
  },
  {
   "cell_type": "code",
   "execution_count": 12,
   "metadata": {
    "collapsed": false
   },
   "outputs": [],
   "source": [
    "items_cols = pd.read_csv('./data/items_encoded.csv', nrows=1).columns\n",
    "bit_cols = list(set(items_cols)-{'item_nbr'})\n",
    "item_types = dict(map(lambda x: (x, bool), bit_cols))\n",
    "items = pd.read_csv('./data/items_encoded.csv', dtype=item_types)\n",
    "\n",
    "stores_cols = pd.read_csv('./data/stores_encoded.csv', nrows=1).columns\n",
    "bit_cols = list(set(stores_cols)-{'store_nbr'})\n",
    "stores_types = dict(map(lambda x: (x, bool), bit_cols))\n",
    "stores = pd.read_csv('./data/stores_encoded.csv', dtype=stores_types)\n",
    "\n",
    "test_ext = test.merge(items, on='item_nbr')\n",
    "test_ext = test_ext.merge(stores, on='store_nbr')"
   ]
  },
  {
   "cell_type": "code",
   "execution_count": 13,
   "metadata": {
    "collapsed": false
   },
   "outputs": [
    {
     "data": {
      "text/html": [
       "<div>\n",
       "<table border=\"1\" class=\"dataframe\">\n",
       "  <thead>\n",
       "    <tr style=\"text-align: right;\">\n",
       "      <th></th>\n",
       "      <th>item_nbr</th>\n",
       "      <th>store_nbr</th>\n",
       "      <th>onpromotion</th>\n",
       "      <th>id</th>\n",
       "      <th>date</th>\n",
       "      <th>unit_sales</th>\n",
       "      <th>family_AUTOMOTIVE</th>\n",
       "      <th>family_BABY CARE</th>\n",
       "      <th>family_BEAUTY</th>\n",
       "      <th>family_BEVERAGES</th>\n",
       "      <th>...</th>\n",
       "      <th>cluster_17</th>\n",
       "      <th>cluster_2</th>\n",
       "      <th>cluster_3</th>\n",
       "      <th>cluster_4</th>\n",
       "      <th>cluster_5</th>\n",
       "      <th>cluster_6</th>\n",
       "      <th>cluster_7</th>\n",
       "      <th>cluster_8</th>\n",
       "      <th>cluster_9</th>\n",
       "      <th>store_item_tuple</th>\n",
       "    </tr>\n",
       "  </thead>\n",
       "  <tbody>\n",
       "    <tr>\n",
       "      <th>0</th>\n",
       "      <td>96995</td>\n",
       "      <td>1</td>\n",
       "      <td>False</td>\n",
       "      <td>125497040</td>\n",
       "      <td>2017-08-16</td>\n",
       "      <td>0.312142</td>\n",
       "      <td>False</td>\n",
       "      <td>False</td>\n",
       "      <td>False</td>\n",
       "      <td>False</td>\n",
       "      <td>...</td>\n",
       "      <td>False</td>\n",
       "      <td>False</td>\n",
       "      <td>False</td>\n",
       "      <td>False</td>\n",
       "      <td>False</td>\n",
       "      <td>False</td>\n",
       "      <td>False</td>\n",
       "      <td>False</td>\n",
       "      <td>False</td>\n",
       "      <td>(96995, 1)</td>\n",
       "    </tr>\n",
       "    <tr>\n",
       "      <th>1</th>\n",
       "      <td>96995</td>\n",
       "      <td>1</td>\n",
       "      <td>False</td>\n",
       "      <td>125707694</td>\n",
       "      <td>2017-08-17</td>\n",
       "      <td>0.312142</td>\n",
       "      <td>False</td>\n",
       "      <td>False</td>\n",
       "      <td>False</td>\n",
       "      <td>False</td>\n",
       "      <td>...</td>\n",
       "      <td>False</td>\n",
       "      <td>False</td>\n",
       "      <td>False</td>\n",
       "      <td>False</td>\n",
       "      <td>False</td>\n",
       "      <td>False</td>\n",
       "      <td>False</td>\n",
       "      <td>False</td>\n",
       "      <td>False</td>\n",
       "      <td>(96995, 1)</td>\n",
       "    </tr>\n",
       "    <tr>\n",
       "      <th>2</th>\n",
       "      <td>96995</td>\n",
       "      <td>1</td>\n",
       "      <td>False</td>\n",
       "      <td>125918348</td>\n",
       "      <td>2017-08-18</td>\n",
       "      <td>0.312142</td>\n",
       "      <td>False</td>\n",
       "      <td>False</td>\n",
       "      <td>False</td>\n",
       "      <td>False</td>\n",
       "      <td>...</td>\n",
       "      <td>False</td>\n",
       "      <td>False</td>\n",
       "      <td>False</td>\n",
       "      <td>False</td>\n",
       "      <td>False</td>\n",
       "      <td>False</td>\n",
       "      <td>False</td>\n",
       "      <td>False</td>\n",
       "      <td>False</td>\n",
       "      <td>(96995, 1)</td>\n",
       "    </tr>\n",
       "    <tr>\n",
       "      <th>3</th>\n",
       "      <td>96995</td>\n",
       "      <td>1</td>\n",
       "      <td>False</td>\n",
       "      <td>126129002</td>\n",
       "      <td>2017-08-19</td>\n",
       "      <td>0.312142</td>\n",
       "      <td>False</td>\n",
       "      <td>False</td>\n",
       "      <td>False</td>\n",
       "      <td>False</td>\n",
       "      <td>...</td>\n",
       "      <td>False</td>\n",
       "      <td>False</td>\n",
       "      <td>False</td>\n",
       "      <td>False</td>\n",
       "      <td>False</td>\n",
       "      <td>False</td>\n",
       "      <td>False</td>\n",
       "      <td>False</td>\n",
       "      <td>False</td>\n",
       "      <td>(96995, 1)</td>\n",
       "    </tr>\n",
       "    <tr>\n",
       "      <th>4</th>\n",
       "      <td>96995</td>\n",
       "      <td>1</td>\n",
       "      <td>False</td>\n",
       "      <td>126339656</td>\n",
       "      <td>2017-08-20</td>\n",
       "      <td>0.312142</td>\n",
       "      <td>False</td>\n",
       "      <td>False</td>\n",
       "      <td>False</td>\n",
       "      <td>False</td>\n",
       "      <td>...</td>\n",
       "      <td>False</td>\n",
       "      <td>False</td>\n",
       "      <td>False</td>\n",
       "      <td>False</td>\n",
       "      <td>False</td>\n",
       "      <td>False</td>\n",
       "      <td>False</td>\n",
       "      <td>False</td>\n",
       "      <td>False</td>\n",
       "      <td>(96995, 1)</td>\n",
       "    </tr>\n",
       "  </tbody>\n",
       "</table>\n",
       "<p>5 rows × 422 columns</p>\n",
       "</div>"
      ],
      "text/plain": [
       "   item_nbr  store_nbr onpromotion         id        date  unit_sales  \\\n",
       "0     96995          1       False  125497040  2017-08-16    0.312142   \n",
       "1     96995          1       False  125707694  2017-08-17    0.312142   \n",
       "2     96995          1       False  125918348  2017-08-18    0.312142   \n",
       "3     96995          1       False  126129002  2017-08-19    0.312142   \n",
       "4     96995          1       False  126339656  2017-08-20    0.312142   \n",
       "\n",
       "  family_AUTOMOTIVE family_BABY CARE family_BEAUTY family_BEVERAGES  \\\n",
       "0             False            False         False            False   \n",
       "1             False            False         False            False   \n",
       "2             False            False         False            False   \n",
       "3             False            False         False            False   \n",
       "4             False            False         False            False   \n",
       "\n",
       "        ...        cluster_17 cluster_2 cluster_3 cluster_4 cluster_5  \\\n",
       "0       ...             False     False     False     False     False   \n",
       "1       ...             False     False     False     False     False   \n",
       "2       ...             False     False     False     False     False   \n",
       "3       ...             False     False     False     False     False   \n",
       "4       ...             False     False     False     False     False   \n",
       "\n",
       "  cluster_6 cluster_7 cluster_8 cluster_9 store_item_tuple  \n",
       "0     False     False     False     False       (96995, 1)  \n",
       "1     False     False     False     False       (96995, 1)  \n",
       "2     False     False     False     False       (96995, 1)  \n",
       "3     False     False     False     False       (96995, 1)  \n",
       "4     False     False     False     False       (96995, 1)  \n",
       "\n",
       "[5 rows x 422 columns]"
      ]
     },
     "execution_count": 13,
     "metadata": {},
     "output_type": "execute_result"
    }
   ],
   "source": [
    "test_ext['store_item_tuple'] = list(test_ext[['item_nbr', 'store_nbr']].itertuples(index=False))\n",
    "test_ext.head()"
   ]
  },
  {
   "cell_type": "code",
   "execution_count": 14,
   "metadata": {
    "collapsed": false
   },
   "outputs": [],
   "source": [
    "n_train = pd.read_csv('./data/n_train.csv')\n",
    "n_train_tuples = list(n_train.itertuples(index=False))\n",
    "test_known = test_ext[~test_ext.store_item_tuple.isin(n_train_tuples)]\n",
    "test_unknown = test_ext[test_ext.store_item_tuple.isin(n_train_tuples)]\n",
    "del test_ext"
   ]
  },
  {
   "cell_type": "code",
   "execution_count": 15,
   "metadata": {
    "collapsed": false
   },
   "outputs": [],
   "source": [
    "import lightgbm as lgb\n",
    "from scipy.sparse import csr_matrix\n",
    "from metric import get_weights"
   ]
  },
  {
   "cell_type": "code",
   "execution_count": 24,
   "metadata": {
    "collapsed": false
   },
   "outputs": [],
   "source": [
    "x_cols = list(set(test_known.columns) - {'item_nbr', 'store_nbr', 'id', 'date', 'unit_sales', 'store_item_tuple'})\n",
    "split_point = int(len(test_known)*0.7)\n",
    "\n",
    "train = test_known.iloc[:split_point]\n",
    "weights_train = get_weights(train['item_nbr'])\n",
    "data_train = csr_matrix(train[x_cols]).asfptype()\n",
    "label_train = train['unit_sales']\n",
    "dataset_train = lgb.Dataset(data_train, label_train, weight=weights_train)\n",
    "\n",
    "validation = test_known.iloc[split_point:]\n",
    "weights_validation = get_weights(validation['item_nbr'])\n",
    "data_validation = csr_matrix(validation[x_cols]).asfptype()\n",
    "label_validation = validation['unit_sales']\n",
    "dataset_validation = lgb.Dataset(data_validation, label_validation, weight=weights_validation)"
   ]
  },
  {
   "cell_type": "code",
   "execution_count": 28,
   "metadata": {
    "collapsed": false
   },
   "outputs": [
    {
     "name": "stderr",
     "output_type": "stream",
     "text": [
      "C:\\Users\\Anatoliy\\Anaconda2\\envs\\py35\\lib\\site-packages\\lightgbm\\engine.py:98: UserWarning: Found `num_trees` in params. Will use it instead of argument\n",
      "  warnings.warn(\"Found `{}` in params. Will use it instead of argument\".format(alias))\n"
     ]
    },
    {
     "name": "stdout",
     "output_type": "stream",
     "text": [
      "[1]\tvalid_0's l2: 1.13396\n",
      "Training until validation scores don't improve for 10 rounds.\n",
      "[2]\tvalid_0's l2: 1.11429\n",
      "[3]\tvalid_0's l2: 1.10337\n",
      "[4]\tvalid_0's l2: 1.09079\n",
      "[5]\tvalid_0's l2: 1.08\n",
      "[6]\tvalid_0's l2: 1.07336\n",
      "[7]\tvalid_0's l2: 1.06445\n",
      "[8]\tvalid_0's l2: 1.05964\n",
      "[9]\tvalid_0's l2: 1.05227\n",
      "[10]\tvalid_0's l2: 1.04841\n",
      "[11]\tvalid_0's l2: 1.04194\n",
      "[12]\tvalid_0's l2: 1.03861\n",
      "[13]\tvalid_0's l2: 1.03412\n",
      "[14]\tvalid_0's l2: 1.03191\n",
      "[15]\tvalid_0's l2: 1.02434\n",
      "[16]\tvalid_0's l2: 1.01713\n",
      "[17]\tvalid_0's l2: 1.01333\n",
      "[18]\tvalid_0's l2: 1.01182\n",
      "[19]\tvalid_0's l2: 1.0106\n",
      "[20]\tvalid_0's l2: 1.00791\n",
      "[21]\tvalid_0's l2: 1.00578\n",
      "[22]\tvalid_0's l2: 1.0084\n",
      "[23]\tvalid_0's l2: 1.00557\n",
      "[24]\tvalid_0's l2: 1.00339\n",
      "[25]\tvalid_0's l2: 1.00305\n",
      "[26]\tvalid_0's l2: 1.00178\n",
      "[27]\tvalid_0's l2: 1.00371\n",
      "[28]\tvalid_0's l2: 1.00205\n",
      "[29]\tvalid_0's l2: 1.00005\n",
      "[30]\tvalid_0's l2: 0.99857\n",
      "[31]\tvalid_0's l2: 0.997872\n",
      "[32]\tvalid_0's l2: 0.996896\n",
      "[33]\tvalid_0's l2: 0.995361\n",
      "[34]\tvalid_0's l2: 0.995094\n",
      "[35]\tvalid_0's l2: 0.992311\n",
      "[36]\tvalid_0's l2: 0.991183\n",
      "[37]\tvalid_0's l2: 0.990898\n",
      "[38]\tvalid_0's l2: 0.990472\n",
      "[39]\tvalid_0's l2: 0.990143\n",
      "[40]\tvalid_0's l2: 0.98915\n",
      "[41]\tvalid_0's l2: 0.988614\n",
      "[42]\tvalid_0's l2: 0.987657\n",
      "[43]\tvalid_0's l2: 0.987549\n",
      "[44]\tvalid_0's l2: 0.987557\n",
      "[45]\tvalid_0's l2: 0.986643\n",
      "[46]\tvalid_0's l2: 0.985594\n",
      "[47]\tvalid_0's l2: 0.985193\n",
      "[48]\tvalid_0's l2: 0.984817\n",
      "[49]\tvalid_0's l2: 0.984542\n",
      "[50]\tvalid_0's l2: 0.984008\n",
      "[51]\tvalid_0's l2: 0.983497\n",
      "[52]\tvalid_0's l2: 0.98364\n",
      "[53]\tvalid_0's l2: 0.983694\n",
      "[54]\tvalid_0's l2: 0.982918\n",
      "[55]\tvalid_0's l2: 0.982518\n",
      "[56]\tvalid_0's l2: 0.982242\n",
      "[57]\tvalid_0's l2: 0.981862\n",
      "[58]\tvalid_0's l2: 0.981959\n",
      "[59]\tvalid_0's l2: 0.981878\n",
      "[60]\tvalid_0's l2: 0.981699\n",
      "[61]\tvalid_0's l2: 0.981555\n",
      "[62]\tvalid_0's l2: 0.980101\n",
      "[63]\tvalid_0's l2: 0.979898\n",
      "[64]\tvalid_0's l2: 0.979839\n",
      "[65]\tvalid_0's l2: 0.980093\n",
      "[66]\tvalid_0's l2: 0.979241\n",
      "[67]\tvalid_0's l2: 0.978977\n",
      "[68]\tvalid_0's l2: 0.978532\n",
      "[69]\tvalid_0's l2: 0.978176\n",
      "[70]\tvalid_0's l2: 0.978086\n",
      "[71]\tvalid_0's l2: 0.977886\n",
      "[72]\tvalid_0's l2: 0.976684\n",
      "[73]\tvalid_0's l2: 0.976494\n",
      "[74]\tvalid_0's l2: 0.97619\n",
      "[75]\tvalid_0's l2: 0.976269\n",
      "[76]\tvalid_0's l2: 0.975781\n",
      "[77]\tvalid_0's l2: 0.975685\n",
      "[78]\tvalid_0's l2: 0.975461\n",
      "[79]\tvalid_0's l2: 0.975288\n",
      "[80]\tvalid_0's l2: 0.974743\n",
      "[81]\tvalid_0's l2: 0.974832\n",
      "[82]\tvalid_0's l2: 0.974294\n",
      "[83]\tvalid_0's l2: 0.974099\n",
      "[84]\tvalid_0's l2: 0.974194\n",
      "[85]\tvalid_0's l2: 0.973867\n",
      "[86]\tvalid_0's l2: 0.973749\n",
      "[87]\tvalid_0's l2: 0.973124\n",
      "[88]\tvalid_0's l2: 0.973133\n",
      "[89]\tvalid_0's l2: 0.972928\n",
      "[90]\tvalid_0's l2: 0.972775\n",
      "[91]\tvalid_0's l2: 0.972817\n",
      "[92]\tvalid_0's l2: 0.972729\n",
      "[93]\tvalid_0's l2: 0.972311\n",
      "[94]\tvalid_0's l2: 0.972333\n",
      "[95]\tvalid_0's l2: 0.972477\n",
      "[96]\tvalid_0's l2: 0.972275\n",
      "[97]\tvalid_0's l2: 0.972077\n",
      "[98]\tvalid_0's l2: 0.972176\n",
      "[99]\tvalid_0's l2: 0.972111\n",
      "[100]\tvalid_0's l2: 0.972152\n"
     ]
    }
   ],
   "source": [
    "param = {'num_leaves':30, 'num_trees':100, 'objective':'regression_l2', 'metric':'mse'}\n",
    "num_round = 20\n",
    "bst = lgb.train(param, dataset_train, num_round, valid_sets=dataset_validation, early_stopping_rounds=10, verbose_eval=True)"
   ]
  },
  {
   "cell_type": "code",
   "execution_count": 27,
   "metadata": {
    "collapsed": false
   },
   "outputs": [],
   "source": [
    "!telegram-send \"LightGBM done\""
   ]
  },
  {
   "cell_type": "code",
   "execution_count": 29,
   "metadata": {
    "collapsed": false
   },
   "outputs": [
    {
     "data": {
      "text/html": [
       "<div>\n",
       "<table border=\"1\" class=\"dataframe\">\n",
       "  <thead>\n",
       "    <tr style=\"text-align: right;\">\n",
       "      <th></th>\n",
       "      <th>item_nbr</th>\n",
       "      <th>store_nbr</th>\n",
       "      <th>onpromotion</th>\n",
       "      <th>id</th>\n",
       "      <th>date</th>\n",
       "      <th>unit_sales</th>\n",
       "      <th>family_AUTOMOTIVE</th>\n",
       "      <th>family_BABY CARE</th>\n",
       "      <th>family_BEAUTY</th>\n",
       "      <th>family_BEVERAGES</th>\n",
       "      <th>...</th>\n",
       "      <th>cluster_17</th>\n",
       "      <th>cluster_2</th>\n",
       "      <th>cluster_3</th>\n",
       "      <th>cluster_4</th>\n",
       "      <th>cluster_5</th>\n",
       "      <th>cluster_6</th>\n",
       "      <th>cluster_7</th>\n",
       "      <th>cluster_8</th>\n",
       "      <th>cluster_9</th>\n",
       "      <th>store_item_tuple</th>\n",
       "    </tr>\n",
       "  </thead>\n",
       "  <tbody>\n",
       "    <tr>\n",
       "      <th>32</th>\n",
       "      <td>103501</td>\n",
       "      <td>1</td>\n",
       "      <td>False</td>\n",
       "      <td>125497042</td>\n",
       "      <td>2017-08-16</td>\n",
       "      <td>0.900737</td>\n",
       "      <td>False</td>\n",
       "      <td>False</td>\n",
       "      <td>False</td>\n",
       "      <td>False</td>\n",
       "      <td>...</td>\n",
       "      <td>False</td>\n",
       "      <td>False</td>\n",
       "      <td>False</td>\n",
       "      <td>False</td>\n",
       "      <td>False</td>\n",
       "      <td>False</td>\n",
       "      <td>False</td>\n",
       "      <td>False</td>\n",
       "      <td>False</td>\n",
       "      <td>(103501, 1)</td>\n",
       "    </tr>\n",
       "    <tr>\n",
       "      <th>33</th>\n",
       "      <td>103501</td>\n",
       "      <td>1</td>\n",
       "      <td>False</td>\n",
       "      <td>125707696</td>\n",
       "      <td>2017-08-17</td>\n",
       "      <td>0.900737</td>\n",
       "      <td>False</td>\n",
       "      <td>False</td>\n",
       "      <td>False</td>\n",
       "      <td>False</td>\n",
       "      <td>...</td>\n",
       "      <td>False</td>\n",
       "      <td>False</td>\n",
       "      <td>False</td>\n",
       "      <td>False</td>\n",
       "      <td>False</td>\n",
       "      <td>False</td>\n",
       "      <td>False</td>\n",
       "      <td>False</td>\n",
       "      <td>False</td>\n",
       "      <td>(103501, 1)</td>\n",
       "    </tr>\n",
       "    <tr>\n",
       "      <th>34</th>\n",
       "      <td>103501</td>\n",
       "      <td>1</td>\n",
       "      <td>False</td>\n",
       "      <td>125918350</td>\n",
       "      <td>2017-08-18</td>\n",
       "      <td>0.900737</td>\n",
       "      <td>False</td>\n",
       "      <td>False</td>\n",
       "      <td>False</td>\n",
       "      <td>False</td>\n",
       "      <td>...</td>\n",
       "      <td>False</td>\n",
       "      <td>False</td>\n",
       "      <td>False</td>\n",
       "      <td>False</td>\n",
       "      <td>False</td>\n",
       "      <td>False</td>\n",
       "      <td>False</td>\n",
       "      <td>False</td>\n",
       "      <td>False</td>\n",
       "      <td>(103501, 1)</td>\n",
       "    </tr>\n",
       "    <tr>\n",
       "      <th>35</th>\n",
       "      <td>103501</td>\n",
       "      <td>1</td>\n",
       "      <td>False</td>\n",
       "      <td>126129004</td>\n",
       "      <td>2017-08-19</td>\n",
       "      <td>0.900737</td>\n",
       "      <td>False</td>\n",
       "      <td>False</td>\n",
       "      <td>False</td>\n",
       "      <td>False</td>\n",
       "      <td>...</td>\n",
       "      <td>False</td>\n",
       "      <td>False</td>\n",
       "      <td>False</td>\n",
       "      <td>False</td>\n",
       "      <td>False</td>\n",
       "      <td>False</td>\n",
       "      <td>False</td>\n",
       "      <td>False</td>\n",
       "      <td>False</td>\n",
       "      <td>(103501, 1)</td>\n",
       "    </tr>\n",
       "    <tr>\n",
       "      <th>36</th>\n",
       "      <td>103501</td>\n",
       "      <td>1</td>\n",
       "      <td>False</td>\n",
       "      <td>126339658</td>\n",
       "      <td>2017-08-20</td>\n",
       "      <td>0.900737</td>\n",
       "      <td>False</td>\n",
       "      <td>False</td>\n",
       "      <td>False</td>\n",
       "      <td>False</td>\n",
       "      <td>...</td>\n",
       "      <td>False</td>\n",
       "      <td>False</td>\n",
       "      <td>False</td>\n",
       "      <td>False</td>\n",
       "      <td>False</td>\n",
       "      <td>False</td>\n",
       "      <td>False</td>\n",
       "      <td>False</td>\n",
       "      <td>False</td>\n",
       "      <td>(103501, 1)</td>\n",
       "    </tr>\n",
       "  </tbody>\n",
       "</table>\n",
       "<p>5 rows × 422 columns</p>\n",
       "</div>"
      ],
      "text/plain": [
       "    item_nbr  store_nbr onpromotion         id        date  unit_sales  \\\n",
       "32    103501          1       False  125497042  2017-08-16    0.900737   \n",
       "33    103501          1       False  125707696  2017-08-17    0.900737   \n",
       "34    103501          1       False  125918350  2017-08-18    0.900737   \n",
       "35    103501          1       False  126129004  2017-08-19    0.900737   \n",
       "36    103501          1       False  126339658  2017-08-20    0.900737   \n",
       "\n",
       "   family_AUTOMOTIVE family_BABY CARE family_BEAUTY family_BEVERAGES  \\\n",
       "32             False            False         False            False   \n",
       "33             False            False         False            False   \n",
       "34             False            False         False            False   \n",
       "35             False            False         False            False   \n",
       "36             False            False         False            False   \n",
       "\n",
       "         ...        cluster_17 cluster_2 cluster_3 cluster_4 cluster_5  \\\n",
       "32       ...             False     False     False     False     False   \n",
       "33       ...             False     False     False     False     False   \n",
       "34       ...             False     False     False     False     False   \n",
       "35       ...             False     False     False     False     False   \n",
       "36       ...             False     False     False     False     False   \n",
       "\n",
       "   cluster_6 cluster_7 cluster_8 cluster_9 store_item_tuple  \n",
       "32     False     False     False     False      (103501, 1)  \n",
       "33     False     False     False     False      (103501, 1)  \n",
       "34     False     False     False     False      (103501, 1)  \n",
       "35     False     False     False     False      (103501, 1)  \n",
       "36     False     False     False     False      (103501, 1)  \n",
       "\n",
       "[5 rows x 422 columns]"
      ]
     },
     "execution_count": 29,
     "metadata": {},
     "output_type": "execute_result"
    }
   ],
   "source": [
    "test_unknown['unit_sales'] = bst.predict(test_unknown[x_cols])\n",
    "test_unknown.head()"
   ]
  },
  {
   "cell_type": "code",
   "execution_count": 41,
   "metadata": {
    "collapsed": false
   },
   "outputs": [
    {
     "data": {
      "text/html": [
       "<div>\n",
       "<table border=\"1\" class=\"dataframe\">\n",
       "  <thead>\n",
       "    <tr style=\"text-align: right;\">\n",
       "      <th></th>\n",
       "      <th>id</th>\n",
       "      <th>unit_sales</th>\n",
       "    </tr>\n",
       "  </thead>\n",
       "  <tbody>\n",
       "    <tr>\n",
       "      <th>0</th>\n",
       "      <td>125497040</td>\n",
       "      <td>0.366349</td>\n",
       "    </tr>\n",
       "    <tr>\n",
       "      <th>1</th>\n",
       "      <td>125497041</td>\n",
       "      <td>0.212509</td>\n",
       "    </tr>\n",
       "    <tr>\n",
       "      <th>2</th>\n",
       "      <td>125497042</td>\n",
       "      <td>0.000000</td>\n",
       "    </tr>\n",
       "    <tr>\n",
       "      <th>3</th>\n",
       "      <td>125497043</td>\n",
       "      <td>0.873407</td>\n",
       "    </tr>\n",
       "    <tr>\n",
       "      <th>4</th>\n",
       "      <td>125497044</td>\n",
       "      <td>1.915161</td>\n",
       "    </tr>\n",
       "  </tbody>\n",
       "</table>\n",
       "</div>"
      ],
      "text/plain": [
       "          id  unit_sales\n",
       "0  125497040    0.366349\n",
       "1  125497041    0.212509\n",
       "2  125497042    0.000000\n",
       "3  125497043    0.873407\n",
       "4  125497044    1.915161"
      ]
     },
     "execution_count": 41,
     "metadata": {},
     "output_type": "execute_result"
    }
   ],
   "source": [
    "submission = pd.read_csv('./data/sample_submission.csv')\n",
    "del submission['unit_sales']\n",
    "#test = pd.concat([test_unknown[['id','unit_sales']], test_known[['id','unit_sales']]])\n",
    "#submission = submission.merge(test, on='id', how='left')\n",
    "submission = submission.merge(test_known[['id','unit_sales']], on='id', how='left')\n",
    "submission.fillna(0.0, inplace=True)\n",
    "submission.ix[submission['unit_sales'] < 0, 'unit_sales'] = 0\n",
    "submission['unit_sales'] = np.expm1(submission['unit_sales'])\n",
    "submission.head()"
   ]
  },
  {
   "cell_type": "code",
   "execution_count": 42,
   "metadata": {
    "collapsed": false
   },
   "outputs": [],
   "source": [
    "submission.to_csv('./submissions/kernel_mean_baseline3.csv.gz', float_format='%.3f', index=None, compression=\"gzip\")"
   ]
  },
  {
   "cell_type": "code",
   "execution_count": 44,
   "metadata": {
    "collapsed": false
   },
   "outputs": [],
   "source": [
    "!telegram-send \"Submission is done\""
   ]
  },
  {
   "cell_type": "code",
   "execution_count": null,
   "metadata": {
    "collapsed": true
   },
   "outputs": [],
   "source": []
  }
 ],
 "metadata": {
  "kernelspec": {
   "display_name": "Python [py35]",
   "language": "python",
   "name": "Python [py35]"
  },
  "language_info": {
   "codemirror_mode": {
    "name": "ipython",
    "version": 3
   },
   "file_extension": ".py",
   "mimetype": "text/x-python",
   "name": "python",
   "nbconvert_exporter": "python",
   "pygments_lexer": "ipython3",
   "version": "3.5.2"
  }
 },
 "nbformat": 4,
 "nbformat_minor": 0
}
