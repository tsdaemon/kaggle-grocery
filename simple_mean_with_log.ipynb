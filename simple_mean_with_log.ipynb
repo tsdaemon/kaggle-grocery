{
 "cells": [
  {
   "cell_type": "code",
   "execution_count": 1,
   "metadata": {
    "collapsed": false
   },
   "outputs": [],
   "source": [
    "from mapreduce import FilteringMapReduce, map_reduce_df\n",
    "import pandas as pd\n",
    "from utils import get_date_index, get_days_in_range\n",
    "from metric import NWRMSLE_log, get_weights\n",
    "import numpy as np"
   ]
  },
  {
   "cell_type": "code",
   "execution_count": 2,
   "metadata": {
    "collapsed": false
   },
   "outputs": [
    {
     "name": "stdout",
     "output_type": "stream",
     "text": [
      "Reading batch from position 110000000, batch size 10000000...\n",
      "Filtering 10000000...\n",
      "Filtered 930790, mapping...\n",
      "Mapped, reducing...\n",
      "Batch done.\n",
      "================================================================================\n",
      "Reading batch from position 120000000, batch size 10000000...\n",
      "Filtering 5497041...\n",
      "Filtered 5497041, mapping...\n",
      "Mapped, reducing...\n",
      "Batch done.\n",
      "End of dataset is found.\n"
     ]
    }
   ],
   "source": [
    "# fill with median from previous two weeks\n",
    "days = get_days_in_range('2017-06-16', '2017-08-15')\n",
    "cols = ['id', 'date', 'store_nbr', 'item_nbr', 'unit_sales', 'onpromotion']\n",
    "types = {'id': 'int32',\n",
    "         'date': 'int16',\n",
    "         'item_nbr': 'int32',\n",
    "         'store_nbr': 'int16',\n",
    "         'unit_sales': 'float32',\n",
    "         'onpromotion': bool}\n",
    "mapreduce = FilteringMapReduce(lambda df: df[df.date.isin(days)])\n",
    "train = map_reduce_df('./data/train_processed.csv', mapreduce, types=types, position=110000000, cols=cols, verbose=True)"
   ]
  },
  {
   "cell_type": "code",
   "execution_count": 3,
   "metadata": {
    "collapsed": false
   },
   "outputs": [],
   "source": [
    "# filling empty dates\n",
    "train.ix[train.unit_sales < 0, 'unit_sales'] = 0\n",
    "u_dates = train.date.unique()\n",
    "u_stores = train.store_nbr.unique()\n",
    "u_items = train.item_nbr.unique()\n",
    "train.set_index([\"date\", \"store_nbr\", \"item_nbr\"], inplace=True)\n",
    "train = train.reindex(\n",
    "    pd.MultiIndex.from_product(\n",
    "        (u_dates, u_stores, u_items),\n",
    "        names=[\"date\", \"store_nbr\", \"item_nbr\"]\n",
    "    )\n",
    ")\n",
    "train.loc[:, \"unit_sales\"].fillna(0, inplace=True)\n",
    "train.loc[:, \"onpromotion\"].fillna(False, inplace=True)\n",
    "train.reset_index(inplace=True)"
   ]
  },
  {
   "cell_type": "code",
   "execution_count": 4,
   "metadata": {
    "collapsed": false
   },
   "outputs": [],
   "source": [
    "# log\n",
    "train['unit_sales'] = np.log1p(train['unit_sales'])"
   ]
  },
  {
   "cell_type": "code",
   "execution_count": 5,
   "metadata": {
    "collapsed": false
   },
   "outputs": [],
   "source": [
    "days_train1 = get_days_in_range('2017-06-16', '2017-06-30')\n",
    "days_train2 = get_days_in_range('2017-07-01', '2017-07-15')\n",
    "days_train3 = get_days_in_range('2017-07-16', '2017-07-31')\n",
    "days_test = get_days_in_range('2017-08-01', '2017-08-15')\n",
    "\n",
    "mean_train1 = train[train.date.isin(days_train1)]\n",
    "mean_train2 = train[train.date.isin(days_train2)]\n",
    "mean_train3 = train[train.date.isin(days_train3)]\n",
    "mean_test = train[train.date.isin(days_test)]\n",
    "del train"
   ]
  },
  {
   "cell_type": "code",
   "execution_count": 8,
   "metadata": {
    "collapsed": false
   },
   "outputs": [
    {
     "data": {
      "text/plain": [
       "0.61607487413109474"
      ]
     },
     "execution_count": 8,
     "metadata": {},
     "output_type": "execute_result"
    }
   ],
   "source": [
    "def ev(train, test):\n",
    "    train = train.groupby(['item_nbr','store_nbr', 'onpromotion'], as_index=False).agg({'unit_sales':'mean'})\n",
    "    train.rename(columns={'unit_sales':'unit_sales_mean'}, inplace=True)  \n",
    "    test = test.merge(train, on=['item_nbr','store_nbr', 'onpromotion'], how='left')\n",
    "    test.fillna(0.0, inplace=True)\n",
    "    y_true = test['unit_sales']\n",
    "    y_pred = test['unit_sales_mean']\n",
    "    weights = get_weights(test['item_nbr'])\n",
    "    error = NWRMSLE_log(y_true, y_pred, weights)\n",
    "    return error\n",
    "\n",
    "errors = []\n",
    "errors.append(ev(mean_train1, mean_train2))\n",
    "errors.append(ev(mean_train2, mean_train3))\n",
    "errors.append(ev(mean_train3, mean_test))\n",
    "np.mean(errors)"
   ]
  },
  {
   "cell_type": "code",
   "execution_count": 25,
   "metadata": {
    "collapsed": false
   },
   "outputs": [],
   "source": [
    "metric = np.mean(errors)\n",
    "!telegram-send \"Validation finished $metric\""
   ]
  },
  {
   "cell_type": "code",
   "execution_count": 10,
   "metadata": {
    "collapsed": false
   },
   "outputs": [
    {
     "data": {
      "text/plain": [
       "[0.6312275316337234, 0.6048062287676395, 0.6121908619919213]"
      ]
     },
     "execution_count": 10,
     "metadata": {},
     "output_type": "execute_result"
    }
   ],
   "source": [
    "errors"
   ]
  },
  {
   "cell_type": "code",
   "execution_count": 12,
   "metadata": {
    "collapsed": false
   },
   "outputs": [
    {
     "data": {
      "text/html": [
       "<div>\n",
       "<table border=\"1\" class=\"dataframe\">\n",
       "  <thead>\n",
       "    <tr style=\"text-align: right;\">\n",
       "      <th></th>\n",
       "      <th></th>\n",
       "      <th></th>\n",
       "      <th>unit_sales</th>\n",
       "    </tr>\n",
       "    <tr>\n",
       "      <th>item_nbr</th>\n",
       "      <th>store_nbr</th>\n",
       "      <th>onpromotion</th>\n",
       "      <th></th>\n",
       "    </tr>\n",
       "  </thead>\n",
       "  <tbody>\n",
       "    <tr>\n",
       "      <th rowspan=\"5\" valign=\"top\">96995</th>\n",
       "      <th>1</th>\n",
       "      <th>False</th>\n",
       "      <td>0.312142</td>\n",
       "    </tr>\n",
       "    <tr>\n",
       "      <th>2</th>\n",
       "      <th>False</th>\n",
       "      <td>0.000000</td>\n",
       "    </tr>\n",
       "    <tr>\n",
       "      <th>3</th>\n",
       "      <th>False</th>\n",
       "      <td>0.350500</td>\n",
       "    </tr>\n",
       "    <tr>\n",
       "      <th>4</th>\n",
       "      <th>False</th>\n",
       "      <td>0.138629</td>\n",
       "    </tr>\n",
       "    <tr>\n",
       "      <th>5</th>\n",
       "      <th>False</th>\n",
       "      <td>0.092420</td>\n",
       "    </tr>\n",
       "  </tbody>\n",
       "</table>\n",
       "</div>"
      ],
      "text/plain": [
       "                                unit_sales\n",
       "item_nbr store_nbr onpromotion            \n",
       "96995    1         False          0.312142\n",
       "         2         False          0.000000\n",
       "         3         False          0.350500\n",
       "         4         False          0.138629\n",
       "         5         False          0.092420"
      ]
     },
     "execution_count": 12,
     "metadata": {},
     "output_type": "execute_result"
    }
   ],
   "source": [
    "train = mean_test.groupby(by=['item_nbr','store_nbr', 'onpromotion'])['unit_sales'].mean().to_frame('unit_sales')\n",
    "train.head()"
   ]
  },
  {
   "cell_type": "code",
   "execution_count": 17,
   "metadata": {
    "collapsed": false
   },
   "outputs": [
    {
     "name": "stderr",
     "output_type": "stream",
     "text": [
      "C:\\Users\\Anatoliy\\Anaconda2\\envs\\py35\\lib\\site-packages\\ipykernel\\__main__.py:1: RuntimeWarning: overflow encountered in expm1\n",
      "  if __name__ == '__main__':\n"
     ]
    }
   ],
   "source": [
    "train['unit_sales'] = np.expm1(train['unit_sales'])\n",
    "train.reset_index(inplace=True)\n",
    "\n",
    "test = pd.read_csv('./data/test_processed.csv', dtype=types)\n",
    "test = test.merge(train, on=['item_nbr', 'store_nbr', 'onpromotion'], how='left')\n",
    "test.fillna(0.0, inplace=True)\n",
    "test.ix[test.unit_sales < 0, 'unit_sales'] = 0"
   ]
  },
  {
   "cell_type": "code",
   "execution_count": 18,
   "metadata": {
    "collapsed": false
   },
   "outputs": [],
   "source": [
    "#0.673\n",
    "test[['id', 'unit_sales']].to_csv('./submissions/previous_week_log_mean_0.61.csv.gz', index=False, compression=\"gzip\")"
   ]
  },
  {
   "cell_type": "code",
   "execution_count": 19,
   "metadata": {
    "collapsed": false
   },
   "outputs": [
    {
     "data": {
      "text/html": [
       "<div>\n",
       "<table border=\"1\" class=\"dataframe\">\n",
       "  <thead>\n",
       "    <tr style=\"text-align: right;\">\n",
       "      <th></th>\n",
       "      <th>id</th>\n",
       "      <th>date</th>\n",
       "      <th>store_nbr</th>\n",
       "      <th>item_nbr</th>\n",
       "      <th>onpromotion</th>\n",
       "      <th>index</th>\n",
       "      <th>unit_sales</th>\n",
       "    </tr>\n",
       "  </thead>\n",
       "  <tbody>\n",
       "    <tr>\n",
       "      <th>0</th>\n",
       "      <td>125497040</td>\n",
       "      <td>1688</td>\n",
       "      <td>1</td>\n",
       "      <td>96995</td>\n",
       "      <td>False</td>\n",
       "      <td>0.0</td>\n",
       "      <td>0.442458</td>\n",
       "    </tr>\n",
       "    <tr>\n",
       "      <th>1</th>\n",
       "      <td>125497041</td>\n",
       "      <td>1688</td>\n",
       "      <td>1</td>\n",
       "      <td>99197</td>\n",
       "      <td>False</td>\n",
       "      <td>54.0</td>\n",
       "      <td>0.236777</td>\n",
       "    </tr>\n",
       "    <tr>\n",
       "      <th>2</th>\n",
       "      <td>125497042</td>\n",
       "      <td>1688</td>\n",
       "      <td>1</td>\n",
       "      <td>103501</td>\n",
       "      <td>False</td>\n",
       "      <td>108.0</td>\n",
       "      <td>0.000000</td>\n",
       "    </tr>\n",
       "    <tr>\n",
       "      <th>3</th>\n",
       "      <td>125497043</td>\n",
       "      <td>1688</td>\n",
       "      <td>1</td>\n",
       "      <td>103520</td>\n",
       "      <td>False</td>\n",
       "      <td>162.0</td>\n",
       "      <td>1.395056</td>\n",
       "    </tr>\n",
       "    <tr>\n",
       "      <th>4</th>\n",
       "      <td>125497044</td>\n",
       "      <td>1688</td>\n",
       "      <td>1</td>\n",
       "      <td>103665</td>\n",
       "      <td>False</td>\n",
       "      <td>216.0</td>\n",
       "      <td>5.788029</td>\n",
       "    </tr>\n",
       "  </tbody>\n",
       "</table>\n",
       "</div>"
      ],
      "text/plain": [
       "          id  date  store_nbr  item_nbr onpromotion  index  unit_sales\n",
       "0  125497040  1688          1     96995       False    0.0    0.442458\n",
       "1  125497041  1688          1     99197       False   54.0    0.236777\n",
       "2  125497042  1688          1    103501       False  108.0    0.000000\n",
       "3  125497043  1688          1    103520       False  162.0    1.395056\n",
       "4  125497044  1688          1    103665       False  216.0    5.788029"
      ]
     },
     "execution_count": 19,
     "metadata": {},
     "output_type": "execute_result"
    }
   ],
   "source": [
    "test.head()"
   ]
  },
  {
   "cell_type": "code",
   "execution_count": 20,
   "metadata": {
    "collapsed": true
   },
   "outputs": [],
   "source": [
    "!telegram-send \"Submission done\""
   ]
  },
  {
   "cell_type": "code",
   "execution_count": null,
   "metadata": {
    "collapsed": true
   },
   "outputs": [],
   "source": []
  }
 ],
 "metadata": {
  "anaconda-cloud": {},
  "kernelspec": {
   "display_name": "Python [py35]",
   "language": "python",
   "name": "Python [py35]"
  },
  "language_info": {
   "codemirror_mode": {
    "name": "ipython",
    "version": 3
   },
   "file_extension": ".py",
   "mimetype": "text/x-python",
   "name": "python",
   "nbconvert_exporter": "python",
   "pygments_lexer": "ipython3",
   "version": "3.5.2"
  }
 },
 "nbformat": 4,
 "nbformat_minor": 0
}
