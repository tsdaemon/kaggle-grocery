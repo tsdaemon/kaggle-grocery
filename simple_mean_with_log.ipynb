{
 "cells": [
  {
   "cell_type": "code",
   "execution_count": 25,
   "metadata": {
    "collapsed": false
   },
   "outputs": [],
   "source": [
    "from importlib import reload\n",
    "import mapreduce\n",
    "reload(mapreduce)\n",
    "from mapreduce import FilteringMapReduce, map_reduce_df\n",
    "import pandas as pd\n",
    "import utils\n",
    "reload(utils)\n",
    "from utils import get_date_index, get_days_in_range\n",
    "import metric\n",
    "reload(metric)\n",
    "from metric import NWRMSLE_log, get_weights\n",
    "import numpy as np"
   ]
  },
  {
   "cell_type": "code",
   "execution_count": 2,
   "metadata": {
    "collapsed": false
   },
   "outputs": [],
   "source": [
    "# fill with median from previous two weeks\n",
    "days = get_days_in_range('2017-06-16', '2017-08-15')"
   ]
  },
  {
   "cell_type": "code",
   "execution_count": 5,
   "metadata": {
    "collapsed": false
   },
   "outputs": [
    {
     "name": "stdout",
     "output_type": "stream",
     "text": [
      "Reading from position 110000000, batch size 10000000...\n",
      "Filtering 10000000...\n",
      "Filtered 930790, mapping...\n",
      "Mapped, reducing...\n",
      "Done.\n",
      "Reading from position 120000000, batch size 10000000...\n",
      "Filtering 5497041...\n",
      "Filtered 5497041, mapping...\n",
      "Mapped, reducing...\n",
      "Done.\n",
      "End of dataset is found.\n"
     ]
    }
   ],
   "source": [
    "cols = ['id', 'date', 'store_nbr', 'item_nbr', 'unit_sales', 'onpromotion']\n",
    "types = {'id': 'int32',\n",
    "         'date': 'int16',\n",
    "         'item_nbr': 'int32',\n",
    "         'store_nbr': 'int16',\n",
    "         'unit_sales': 'float32',\n",
    "         'onpromotion': bool}\n",
    "mapreduce = FilteringMapReduce(lambda df: df[df.date.isin(days)], cols, types)\n",
    "train = map_reduce_df('./data/train_processed.csv', mapreduce, types=types, position=110000000, cols=cols, verbose=True)"
   ]
  },
  {
   "cell_type": "code",
   "execution_count": 6,
   "metadata": {
    "collapsed": false
   },
   "outputs": [],
   "source": [
    "# filling empty dates\n",
    "train.ix[train.unit_sales < 0, 'unit_sales'] = 0\n",
    "u_dates = train.date.unique()\n",
    "u_stores = train.store_nbr.unique()\n",
    "u_items = train.item_nbr.unique()\n",
    "train.set_index([\"date\", \"store_nbr\", \"item_nbr\"], inplace=True)\n",
    "train = train.reindex(\n",
    "    pd.MultiIndex.from_product(\n",
    "        (u_dates, u_stores, u_items),\n",
    "        names=[\"date\", \"store_nbr\", \"item_nbr\"]\n",
    "    )\n",
    ")\n",
    "train.loc[:, \"unit_sales\"].fillna(0, inplace=True)\n",
    "train.loc[:, \"onpromotion\"].fillna(\"False\", inplace=True)\n",
    "train.reset_index(inplace=True)"
   ]
  },
  {
   "cell_type": "code",
   "execution_count": 9,
   "metadata": {
    "collapsed": false
   },
   "outputs": [],
   "source": [
    "# log\n",
    "train['unit_sales'] = np.log1p(train['unit_sales'])"
   ]
  },
  {
   "cell_type": "code",
   "execution_count": 11,
   "metadata": {
    "collapsed": false
   },
   "outputs": [],
   "source": [
    "days_train1 = get_days_in_range('2017-06-16', '2017-06-30')\n",
    "days_train2 = get_days_in_range('2017-07-01', '2017-07-15')\n",
    "days_train3 = get_days_in_range('2017-07-16', '2017-07-31')\n",
    "days_test = get_days_in_range('2017-08-01', '2017-08-15')\n",
    "\n",
    "mean_train1 = train[train.date.isin(days_train1)]\n",
    "mean_train2 = train[train.date.isin(days_train2)]\n",
    "mean_train3 = train[train.date.isin(days_train3)]\n",
    "mean_test = train[train.date.isin(days_test)]\n",
    "del train"
   ]
  },
  {
   "cell_type": "code",
   "execution_count": 21,
   "metadata": {
    "collapsed": false
   },
   "outputs": [
    {
     "data": {
      "text/html": [
       "<div>\n",
       "<table border=\"1\" class=\"dataframe\">\n",
       "  <thead>\n",
       "    <tr style=\"text-align: right;\">\n",
       "      <th></th>\n",
       "      <th>date</th>\n",
       "      <th>store_nbr</th>\n",
       "      <th>item_nbr</th>\n",
       "      <th>id</th>\n",
       "      <th>unit_sales</th>\n",
       "      <th>onpromotion</th>\n",
       "    </tr>\n",
       "  </thead>\n",
       "  <tbody>\n",
       "    <tr>\n",
       "      <th>1474200</th>\n",
       "      <td>1642.0</td>\n",
       "      <td>46.0</td>\n",
       "      <td>1695836.0</td>\n",
       "      <td>120739967.0</td>\n",
       "      <td>3.221996</td>\n",
       "      <td>False</td>\n",
       "    </tr>\n",
       "    <tr>\n",
       "      <th>1474201</th>\n",
       "      <td>1642.0</td>\n",
       "      <td>46.0</td>\n",
       "      <td>1695837.0</td>\n",
       "      <td>120739968.0</td>\n",
       "      <td>2.211018</td>\n",
       "      <td>False</td>\n",
       "    </tr>\n",
       "    <tr>\n",
       "      <th>1474202</th>\n",
       "      <td>1642.0</td>\n",
       "      <td>46.0</td>\n",
       "      <td>1695840.0</td>\n",
       "      <td>120739969.0</td>\n",
       "      <td>1.609438</td>\n",
       "      <td>False</td>\n",
       "    </tr>\n",
       "    <tr>\n",
       "      <th>1474203</th>\n",
       "      <td>1642.0</td>\n",
       "      <td>46.0</td>\n",
       "      <td>1695845.0</td>\n",
       "      <td>120739970.0</td>\n",
       "      <td>3.850148</td>\n",
       "      <td>True</td>\n",
       "    </tr>\n",
       "    <tr>\n",
       "      <th>1474204</th>\n",
       "      <td>1642.0</td>\n",
       "      <td>46.0</td>\n",
       "      <td>1695846.0</td>\n",
       "      <td>120739971.0</td>\n",
       "      <td>1.384828</td>\n",
       "      <td>False</td>\n",
       "    </tr>\n",
       "  </tbody>\n",
       "</table>\n",
       "</div>"
      ],
      "text/plain": [
       "           date  store_nbr   item_nbr           id  unit_sales onpromotion\n",
       "1474200  1642.0       46.0  1695836.0  120739967.0    3.221996       False\n",
       "1474201  1642.0       46.0  1695837.0  120739968.0    2.211018       False\n",
       "1474202  1642.0       46.0  1695840.0  120739969.0    1.609438       False\n",
       "1474203  1642.0       46.0  1695845.0  120739970.0    3.850148        True\n",
       "1474204  1642.0       46.0  1695846.0  120739971.0    1.384828       False"
      ]
     },
     "execution_count": 21,
     "metadata": {},
     "output_type": "execute_result"
    }
   ],
   "source": [
    "mean_train2.head()"
   ]
  },
  {
   "cell_type": "code",
   "execution_count": 26,
   "metadata": {
    "collapsed": false
   },
   "outputs": [
    {
     "data": {
      "text/plain": [
       "0.4635163813459644"
      ]
     },
     "execution_count": 26,
     "metadata": {},
     "output_type": "execute_result"
    }
   ],
   "source": [
    "def ev(train, test):\n",
    "    train = train.groupby(['item_nbr','store_nbr', 'onpromotion'], as_index=False).agg({'unit_sales':'mean'})\n",
    "    train.rename(columns={'unit_sales':'unit_sales_mean'}, inplace=True)  \n",
    "    test = test.merge(train, on=['item_nbr','store_nbr', 'onpromotion'], how='left')\n",
    "    test.fillna(0.0, inplace=True)\n",
    "    y_true = test['unit_sales']\n",
    "    y_pred = test['unit_sales_mean']\n",
    "    weights = get_weights(test['item_nbr'])\n",
    "    error = NWRMSLE_log(y_true, y_pred, weights)\n",
    "    return error\n",
    "\n",
    "errors = []\n",
    "errors.append(ev(mean_train1, mean_train2))\n",
    "errors.append(ev(mean_train2, mean_train3))\n",
    "errors.append(ev(mean_train3, mean_test))\n",
    "np.mean(errors)"
   ]
  },
  {
   "cell_type": "code",
   "execution_count": 27,
   "metadata": {
    "collapsed": false
   },
   "outputs": [
    {
     "data": {
      "text/plain": [
       "[0.4844975701263138, 0.4461081096833141, 0.45994346422826543]"
      ]
     },
     "execution_count": 27,
     "metadata": {},
     "output_type": "execute_result"
    }
   ],
   "source": [
    "errors"
   ]
  },
  {
   "cell_type": "code",
   "execution_count": 28,
   "metadata": {
    "collapsed": false
   },
   "outputs": [],
   "source": [
    "test = pd.read_csv('./data/test.csv')\n",
    "train = mean_test.groupby(by=['item_nbr','store_nbr', 'onpromotion'], as_index=False).agg({'unit_sales':'mean'})\n",
    "test = test.merge(train, on=['item_nbr','store_nbr', 'onpromotion'], how='left')\n",
    "test.fillna(0.0, inplace=True)\n",
    "test.ix[test.unit_sales < 0, 'unit_sales'] = 0\n",
    "test['unit_sales'] = np.expm1(test['unit_sales'])"
   ]
  },
  {
   "cell_type": "code",
   "execution_count": 29,
   "metadata": {
    "collapsed": true
   },
   "outputs": [],
   "source": [
    "#0.673\n",
    "test[['id', 'unit_sales']].to_csv('./submissions/previous_week_log_mean_0.46.csv.gz', index=False, compression=\"gzip\")"
   ]
  },
  {
   "cell_type": "code",
   "execution_count": 30,
   "metadata": {
    "collapsed": false
   },
   "outputs": [
    {
     "data": {
      "text/html": [
       "<div>\n",
       "<table border=\"1\" class=\"dataframe\">\n",
       "  <thead>\n",
       "    <tr style=\"text-align: right;\">\n",
       "      <th></th>\n",
       "      <th>id</th>\n",
       "      <th>date</th>\n",
       "      <th>store_nbr</th>\n",
       "      <th>item_nbr</th>\n",
       "      <th>onpromotion</th>\n",
       "      <th>unit_sales</th>\n",
       "    </tr>\n",
       "  </thead>\n",
       "  <tbody>\n",
       "    <tr>\n",
       "      <th>0</th>\n",
       "      <td>125497040</td>\n",
       "      <td>2017-08-16</td>\n",
       "      <td>1</td>\n",
       "      <td>96995</td>\n",
       "      <td>False</td>\n",
       "      <td>1.550849</td>\n",
       "    </tr>\n",
       "    <tr>\n",
       "      <th>1</th>\n",
       "      <td>125497041</td>\n",
       "      <td>2017-08-16</td>\n",
       "      <td>1</td>\n",
       "      <td>99197</td>\n",
       "      <td>False</td>\n",
       "      <td>1.620741</td>\n",
       "    </tr>\n",
       "    <tr>\n",
       "      <th>2</th>\n",
       "      <td>125497042</td>\n",
       "      <td>2017-08-16</td>\n",
       "      <td>1</td>\n",
       "      <td>103501</td>\n",
       "      <td>False</td>\n",
       "      <td>0.000000</td>\n",
       "    </tr>\n",
       "    <tr>\n",
       "      <th>3</th>\n",
       "      <td>125497043</td>\n",
       "      <td>2017-08-16</td>\n",
       "      <td>1</td>\n",
       "      <td>103520</td>\n",
       "      <td>False</td>\n",
       "      <td>1.846996</td>\n",
       "    </tr>\n",
       "    <tr>\n",
       "      <th>4</th>\n",
       "      <td>125497044</td>\n",
       "      <td>2017-08-16</td>\n",
       "      <td>1</td>\n",
       "      <td>103665</td>\n",
       "      <td>False</td>\n",
       "      <td>2.809150</td>\n",
       "    </tr>\n",
       "  </tbody>\n",
       "</table>\n",
       "</div>"
      ],
      "text/plain": [
       "          id        date  store_nbr  item_nbr onpromotion  unit_sales\n",
       "0  125497040  2017-08-16          1     96995       False    1.550849\n",
       "1  125497041  2017-08-16          1     99197       False    1.620741\n",
       "2  125497042  2017-08-16          1    103501       False    0.000000\n",
       "3  125497043  2017-08-16          1    103520       False    1.846996\n",
       "4  125497044  2017-08-16          1    103665       False    2.809150"
      ]
     },
     "execution_count": 30,
     "metadata": {},
     "output_type": "execute_result"
    }
   ],
   "source": [
    "test.head()"
   ]
  },
  {
   "cell_type": "code",
   "execution_count": null,
   "metadata": {
    "collapsed": true
   },
   "outputs": [],
   "source": []
  }
 ],
 "metadata": {
  "anaconda-cloud": {},
  "kernelspec": {
   "display_name": "Python [py35]",
   "language": "python",
   "name": "Python [py35]"
  },
  "language_info": {
   "codemirror_mode": {
    "name": "ipython",
    "version": 3
   },
   "file_extension": ".py",
   "mimetype": "text/x-python",
   "name": "python",
   "nbconvert_exporter": "python",
   "pygments_lexer": "ipython3",
   "version": "3.5.2"
  }
 },
 "nbformat": 4,
 "nbformat_minor": 0
}
